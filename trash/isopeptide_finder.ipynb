{
 "cells": [
  {
   "cell_type": "code",
   "execution_count": 22,
   "id": "0768d727",
   "metadata": {
    "jupyter": {
     "is_executing": true
    },
    "tags": []
   },
   "outputs": [],
   "source": [
    "import pyrosetta\n",
    "import pyrosetta_help as ph\n",
    "\n",
    "logger = ph.configure_logger()\n",
    "pyrosetta.distributed.maybe_init(extra_options=ph.make_option_string(no_optH=False,\n",
    "                                                ex1=None,\n",
    "                                                ex2=None,\n",
    "                                                #mute='all',\n",
    "                                                ignore_unrecognized_res=True,\n",
    "                                                load_PDB_components=False,\n",
    "                                                ignore_waters=False)\n",
    "                               )"
   ]
  },
  {
   "cell_type": "code",
   "execution_count": 2,
   "id": "6a583070-0cc8-4aef-b835-9b23b480a8dc",
   "metadata": {},
   "outputs": [
    {
     "name": "stdout",
     "output_type": "stream",
     "text": [
      "GAMVDTLDSATHIKFSKRDIDGKELAGATMELRDSSGKTISTWISDGQVKDFYLMPGKYTFVETAAPDGYEVATAITFTVNEQGQVTVNGKATKGDAHIVMVDA\n"
     ]
    }
   ],
   "source": [
    "filename = '2x5p.pdb'  # Streptococcus pyogenes fibronectin binding protein Fbab-B = spyCatcher parent\n",
    "ref:pyrosetta.Pose = pyrosetta.pose_from_file(filename)  # noqa\n",
    "pyrosetta.rosetta.core.pose.remove_nonprotein_residues(ref)\n",
    "print( ref.sequence() )\n",
    "pose = ref.clone()"
   ]
  },
  {
   "cell_type": "code",
   "execution_count": 23,
   "id": "b95e6e36-25a3-433b-b0ed-954c6796abca",
   "metadata": {},
   "outputs": [
    {
     "name": "stdout",
     "output_type": "stream",
     "text": [
      "MQIFVKTLTGKTITLEVEPSDTIENVKAKIQDKEGIPPDQQRLIFAGKQLEDGRTLSDYNIQKESTLHLVLRLRGG\n"
     ]
    }
   ],
   "source": [
    "filename = '1ubq.pdb'\n",
    "pose:pyrosetta.Pose = pyrosetta.pose_from_file(filename)  # noqa\n",
    "pyrosetta.rosetta.core.pose.remove_nonprotein_residues(pose)\n",
    "print( pose.sequence() )"
   ]
  },
  {
   "cell_type": "code",
   "execution_count": 6,
   "id": "a38678e0-0dc1-4fcf-a6a0-dc0ef7d4117e",
   "metadata": {},
   "outputs": [
    {
     "data": {
      "text/html": [
       "<div>\n",
       "<style scoped>\n",
       "    .dataframe tbody tr th:only-of-type {\n",
       "        vertical-align: middle;\n",
       "    }\n",
       "\n",
       "    .dataframe tbody tr th {\n",
       "        vertical-align: top;\n",
       "    }\n",
       "\n",
       "    .dataframe thead th {\n",
       "        text-align: right;\n",
       "    }\n",
       "</style>\n",
       "<table border=\"1\" class=\"dataframe\">\n",
       "  <thead>\n",
       "    <tr style=\"text-align: right;\">\n",
       "      <th></th>\n",
       "      <th>Asx</th>\n",
       "      <th>Lys</th>\n",
       "      <th>verdict</th>\n",
       "      <th>score_of_ideal</th>\n",
       "    </tr>\n",
       "  </thead>\n",
       "  <tbody>\n",
       "    <tr>\n",
       "      <th>61</th>\n",
       "      <td>5</td>\n",
       "      <td>13</td>\n",
       "      <td>favorable</td>\n",
       "      <td>-5.736559</td>\n",
       "    </tr>\n",
       "    <tr>\n",
       "      <th>616</th>\n",
       "      <td>54</td>\n",
       "      <td>23</td>\n",
       "      <td>favorable</td>\n",
       "      <td>-5.663807</td>\n",
       "    </tr>\n",
       "    <tr>\n",
       "      <th>117</th>\n",
       "      <td>15</td>\n",
       "      <td>3</td>\n",
       "      <td>favorable</td>\n",
       "      <td>-5.286383</td>\n",
       "    </tr>\n",
       "    <tr>\n",
       "      <th>196</th>\n",
       "      <td>21</td>\n",
       "      <td>56</td>\n",
       "      <td>favorable</td>\n",
       "      <td>-5.227310</td>\n",
       "    </tr>\n",
       "    <tr>\n",
       "      <th>598</th>\n",
       "      <td>50</td>\n",
       "      <td>43</td>\n",
       "      <td>favorable</td>\n",
       "      <td>-5.009782</td>\n",
       "    </tr>\n",
       "    <tr>\n",
       "      <th>224</th>\n",
       "      <td>23</td>\n",
       "      <td>54</td>\n",
       "      <td>favorable</td>\n",
       "      <td>-4.956847</td>\n",
       "    </tr>\n",
       "    <tr>\n",
       "      <th>418</th>\n",
       "      <td>34</td>\n",
       "      <td>30</td>\n",
       "      <td>favorable</td>\n",
       "      <td>-4.741839</td>\n",
       "    </tr>\n",
       "    <tr>\n",
       "      <th>33</th>\n",
       "      <td>3</td>\n",
       "      <td>15</td>\n",
       "      <td>favorable</td>\n",
       "      <td>-4.613184</td>\n",
       "    </tr>\n",
       "    <tr>\n",
       "      <th>421</th>\n",
       "      <td>34</td>\n",
       "      <td>36</td>\n",
       "      <td>favorable</td>\n",
       "      <td>-4.592618</td>\n",
       "    </tr>\n",
       "    <tr>\n",
       "      <th>362</th>\n",
       "      <td>30</td>\n",
       "      <td>34</td>\n",
       "      <td>favorable</td>\n",
       "      <td>-4.180917</td>\n",
       "    </tr>\n",
       "  </tbody>\n",
       "</table>\n",
       "</div>"
      ],
      "text/plain": [
       "     Asx  Lys    verdict  score_of_ideal\n",
       "61     5   13  favorable       -5.736559\n",
       "616   54   23  favorable       -5.663807\n",
       "117   15    3  favorable       -5.286383\n",
       "196   21   56  favorable       -5.227310\n",
       "598   50   43  favorable       -5.009782\n",
       "224   23   54  favorable       -4.956847\n",
       "418   34   30  favorable       -4.741839\n",
       "33     3   15  favorable       -4.613184\n",
       "421   34   36  favorable       -4.592618\n",
       "362   30   34  favorable       -4.180917"
      ]
     },
     "execution_count": 6,
     "metadata": {},
     "output_type": "execute_result"
    }
   ],
   "source": [
    "import itertools\n",
    "prc = pyrosetta.rosetta.core\n",
    "from isopeptide_scan import IsopetideScanner, IsopetideType\n",
    "\n",
    "selector = prc.select.residue_selector.LayerSelector()\n",
    "selector.set_layers(pick_core=True, pick_boundary=True, pick_surface=False)\n",
    "idxs = prc.select.residue_selector.ResidueVector(selector.apply(pose))\n",
    "\n",
    "scanner = IsopetideScanner(pose)\n",
    "df = scanner(idxs)\n",
    "df.loc[df.verdict == 'favorable']"
   ]
  },
  {
   "cell_type": "code",
   "execution_count": 10,
   "id": "b7ee8c14-c3db-411a-983f-5b084852f051",
   "metadata": {},
   "outputs": [
    {
     "data": {
      "text/plain": [
       "verdict\n",
       "unsuitable     590\n",
       "unfavorable    125\n",
       "favorable       97\n",
       "identity        29\n",
       "Name: count, dtype: int64"
      ]
     },
     "execution_count": 10,
     "metadata": {},
     "output_type": "execute_result"
    }
   ],
   "source": [
    "df.verdict.value_counts()"
   ]
  },
  {
   "cell_type": "code",
   "execution_count": 31,
   "id": "6778a700-3253-4be6-8f0f-a7114428dcb3",
   "metadata": {},
   "outputs": [],
   "source": [
    "\n",
    "prc = pyrosetta.rosetta.core\n",
    "pr_res = prc.select.residue_selector\n",
    "\n",
    "from isopeptide_scan import IsopetideScanner, IsopetideType\n",
    "from isopeptide_scan.pose_operations import constrain_isopeptide\n",
    "\n",
    "asx_i = 5\n",
    "lys_i = 13\n",
    "\n",
    "def relax_weighted_cart(pose, scorefxn, cycles=5, chi=True, bb=True, jump=True):\n",
    "    movemap = pyrosetta.MoveMap()\n",
    "    movemap.set_bb(bb)\n",
    "    movemap.set_chi(chi)\n",
    "    movemap.set_jump(jump)\n",
    "    relax = pyrosetta.rosetta.protocols.relax.FastRelax(scorefxn, cycles)  # noqa\n",
    "    # relax.set_movemap_disables_packing_of_fixed_chi_positions(True)\n",
    "    relax.set_movemap(movemap)\n",
    "    relax.minimize_bond_angles(True)\n",
    "    relax.minimize_bond_lengths(True)\n",
    "    relax.cartesian(True)\n",
    "    relax.apply(pose)\n",
    "\n",
    "MutateResidue = pyrosetta.rosetta.protocols.simple_moves.MutateResidue\n",
    "\n",
    "class Variant:\n",
    "\n",
    "    def __init__(self, pose, asx_i: int, lys_i: int):\n",
    "        self.pose = pose\n",
    "        self.asx = asx\n",
    "        self.lys = lys\n",
    "\n",
    "    @c\n",
    "\n",
    "def make_isopeptide_mutant(self, asx_i, lys_i):\n",
    "    mutant = pose.clone()\n",
    "    \n",
    "    MutateResidue(target=asx_i, new_res='ASP:SidechainConjugation').apply(mutant)\n",
    "    MutateResidue(target=lys_i, new_res='LYS:SidechainConjugation').apply(mutant)\n",
    "    mutant.conformation().declare_chemical_bond(seqpos1=lys_i, atom_name1='NZ', seqpos2=asx_i, atom_name2='CG')\n",
    "    constrain_isopeptide(mutant, asx_i, lys_i)\n",
    "    \n",
    "    iso_selector = pr_res.ResidueIndexSelector()\n",
    "    iso_selector.append_index(asx_i)\n",
    "    iso_selector.append_index(lys_i)\n",
    "    neigh_sele = pr_res.NeighborhoodResidueSelector(selector=iso_selector, distance=6, include_focus_in_subset=False)\n",
    "    canonical_sele = pr_res.ResiduePropertySelector(prc.chemical.ResidueProperty.CANONICAL_AA)\n",
    "    \n",
    "    MutateResidue = pyrosetta.rosetta.protocols.simple_moves.MutateResidue\n",
    "        \n",
    "    for idx1 in pr_res.ResidueVector(pr_res.AndResidueSelector(canonical_sele, neigh_sele).apply(pose)):\n",
    "        if pose.residue(idx1).name3() in ('PRO', 'GLY'):\n",
    "            continue  # keep as are\n",
    "        MutateResidue(target=idx1, new_res='ALA').apply(mutant)\n",
    "    pr_res.NeighborhoodResidueSelector(selector=iso_selector, distance=6, include_focus_in_subset=False)\n",
    "    relax_weighted_cart(mutant, self.scorefxn_cart_ex, chi=iso_selector.apply(mutant), bb=False, jump=False)\n",
    "    return mutant"
   ]
  },
  {
   "cell_type": "code",
   "execution_count": 32,
   "id": "c2a0ebb3-9d8d-4908-9994-715077ac9ed8",
   "metadata": {},
   "outputs": [],
   "source": [
    "scanner = IsopetideScanner(pose)\n",
    "\n",
    "mutant = make_isopeptide_mutant(scanner, asx_i = 5, lys_i = 13)"
   ]
  },
  {
   "cell_type": "code",
   "execution_count": 37,
   "id": "febe337b-9863-4f4a-a456-1cddd2d0a8a9",
   "metadata": {},
   "outputs": [
    {
     "data": {
      "text/plain": [
       "Ellipsis"
      ]
     },
     "execution_count": 37,
     "metadata": {},
     "output_type": "execute_result"
    }
   ],
   "source": [
    "..."
   ]
  },
  {
   "cell_type": "code",
   "execution_count": 9,
   "id": "bd07c017-2379-4692-8a19-75c7ed5a60f3",
   "metadata": {},
   "outputs": [],
   "source": [
    "prc = pyrosetta.rosetta.core\n",
    "pr_res = prc.select.residue_selector\n",
    "\n",
    "iso_selector = pr_res.ResidueIndexSelector()\n",
    "iso_selector.append_index(asx_i)\n",
    "iso_selector.append_index(lys_i)\n",
    "neigh_sele = pr_res.NeighborhoodResidueSelector(selector=iso_selector, distance=6, include_focus_in_subset=False)\n",
    "canonical_sele = pr_res.ResiduePropertySelector(prc.chemical.ResidueProperty.CANONICAL_AA)\n",
    "\n",
    "MutateResidue = pyrosetta.rosetta.protocols.simple_moves.MutateResidue\n",
    "    \n",
    "for idx1 in pr_res.ResidueVector(pr_res.AndResidueSelector(canonical_sele, neigh_sele).apply(pose)):\n",
    "    if pose.residue(idx).name3() in ('PRO', 'GLY'):\n",
    "        continue  # keep as are\n",
    "    MutateResidue(target=idx, new_res='ALA').apply(mutant)"
   ]
  },
  {
   "cell_type": "code",
   "execution_count": 10,
   "id": "5fd179e1-9e5f-4dde-8b97-33e59f7274b3",
   "metadata": {},
   "outputs": [
    {
     "ename": "NameError",
     "evalue": "name 'asx_i' is not defined",
     "output_type": "error",
     "traceback": [
      "\u001b[0;31m---------------------------------------------------------------------------\u001b[0m",
      "\u001b[0;31mNameError\u001b[0m                                 Traceback (most recent call last)",
      "Cell \u001b[0;32mIn[10], line 2\u001b[0m\n\u001b[1;32m      1\u001b[0m iso_selector \u001b[38;5;241m=\u001b[39m pr_res\u001b[38;5;241m.\u001b[39mResidueIndexSelector()\n\u001b[0;32m----> 2\u001b[0m iso_selector\u001b[38;5;241m.\u001b[39mappend_index(asx_i)\n\u001b[1;32m      3\u001b[0m iso_selector\u001b[38;5;241m.\u001b[39mappend_index(lys_i)\n",
      "\u001b[0;31mNameError\u001b[0m: name 'asx_i' is not defined"
     ]
    }
   ],
   "source": []
  },
  {
   "cell_type": "code",
   "execution_count": null,
   "id": "166e2349-f03b-45b7-80d4-c8c174456a89",
   "metadata": {},
   "outputs": [],
   "source": []
  },
  {
   "cell_type": "code",
   "execution_count": 20,
   "id": "a85f5f93-9835-47b5-ab4a-6d812d40a00f",
   "metadata": {},
   "outputs": [
    {
     "data": {
      "text/plain": [
       "vector1_unsigned_long[4, 6, 12, 14, 34, 67, 69]"
      ]
     },
     "execution_count": 20,
     "metadata": {},
     "output_type": "execute_result"
    }
   ],
   "source": [
    "s."
   ]
  },
  {
   "cell_type": "code",
   "execution_count": 19,
   "id": "2e56ae66-0c7c-4a2a-ac1f-fb0af7e92d05",
   "metadata": {},
   "outputs": [
    {
     "ename": "TypeError",
     "evalue": "__init__(): incompatible constructor arguments. The following argument types are supported:\n    1. pyrosetta.rosetta.core.select.residue_selector.NeighborhoodResidueSelector()\n    2. pyrosetta.rosetta.core.select.residue_selector.NeighborhoodResidueSelector(arg0: pyrosetta.rosetta.core.select.residue_selector.NeighborhoodResidueSelector)\n    3. pyrosetta.rosetta.core.select.residue_selector.NeighborhoodResidueSelector(arg0: pyrosetta.rosetta.core.select.residue_selector.NeighborhoodResidueSelector)\n    4. pyrosetta.rosetta.core.select.residue_selector.NeighborhoodResidueSelector(arg0: pyrosetta.rosetta.utility.vector1_bool, arg1: float)\n    5. pyrosetta.rosetta.core.select.residue_selector.NeighborhoodResidueSelector(focus: pyrosetta.rosetta.utility.vector1_bool, distance: float, include_focus_in_subset: bool)\n    6. pyrosetta.rosetta.core.select.residue_selector.NeighborhoodResidueSelector(arg0: pyrosetta.rosetta.core.select.residue_selector.ResidueSelector, arg1: float)\n    7. pyrosetta.rosetta.core.select.residue_selector.NeighborhoodResidueSelector(selector: pyrosetta.rosetta.core.select.residue_selector.ResidueSelector, distance: float, include_focus_in_subset: bool)\n\nInvoked with: <class 'Exception'>",
     "output_type": "error",
     "traceback": [
      "\u001b[0;31m---------------------------------------------------------------------------\u001b[0m",
      "\u001b[0;31mTypeError\u001b[0m                                 Traceback (most recent call last)",
      "Cell \u001b[0;32mIn[19], line 1\u001b[0m\n\u001b[0;32m----> 1\u001b[0m prc\u001b[38;5;241m.\u001b[39mselect\u001b[38;5;241m.\u001b[39mresidue_selector\u001b[38;5;241m.\u001b[39mNeighborhoodResidueSelector(\u001b[38;5;167;01mException\u001b[39;00m)\n",
      "\u001b[0;31mTypeError\u001b[0m: __init__(): incompatible constructor arguments. The following argument types are supported:\n    1. pyrosetta.rosetta.core.select.residue_selector.NeighborhoodResidueSelector()\n    2. pyrosetta.rosetta.core.select.residue_selector.NeighborhoodResidueSelector(arg0: pyrosetta.rosetta.core.select.residue_selector.NeighborhoodResidueSelector)\n    3. pyrosetta.rosetta.core.select.residue_selector.NeighborhoodResidueSelector(arg0: pyrosetta.rosetta.core.select.residue_selector.NeighborhoodResidueSelector)\n    4. pyrosetta.rosetta.core.select.residue_selector.NeighborhoodResidueSelector(arg0: pyrosetta.rosetta.utility.vector1_bool, arg1: float)\n    5. pyrosetta.rosetta.core.select.residue_selector.NeighborhoodResidueSelector(focus: pyrosetta.rosetta.utility.vector1_bool, distance: float, include_focus_in_subset: bool)\n    6. pyrosetta.rosetta.core.select.residue_selector.NeighborhoodResidueSelector(arg0: pyrosetta.rosetta.core.select.residue_selector.ResidueSelector, arg1: float)\n    7. pyrosetta.rosetta.core.select.residue_selector.NeighborhoodResidueSelector(selector: pyrosetta.rosetta.core.select.residue_selector.ResidueSelector, distance: float, include_focus_in_subset: bool)\n\nInvoked with: <class 'Exception'>"
     ]
    }
   ],
   "source": [
    "prc.select.residue_selector.NeighborhoodResidueSelector(Exception)"
   ]
  },
  {
   "cell_type": "code",
   "execution_count": null,
   "id": "6457d37f-aee8-46e3-805e-64436574420d",
   "metadata": {},
   "outputs": [],
   "source": []
  },
  {
   "cell_type": "code",
   "execution_count": 8,
   "id": "69eacb0d-904b-4816-b508-9488e9a75daa",
   "metadata": {},
   "outputs": [],
   "source": [
    "import json\n",
    "with open('test-1ubq.json', 'w') as fh:\n",
    "    json.dump(scores, fh)"
   ]
  },
  {
   "cell_type": "code",
   "execution_count": 15,
   "id": "ce0b8785-b50f-4d7b-bb25-ec4968545414",
   "metadata": {},
   "outputs": [
    {
     "data": {
      "text/html": [
       "<div>\n",
       "<style scoped>\n",
       "    .dataframe tbody tr th:only-of-type {\n",
       "        vertical-align: middle;\n",
       "    }\n",
       "\n",
       "    .dataframe tbody tr th {\n",
       "        vertical-align: top;\n",
       "    }\n",
       "\n",
       "    .dataframe thead th {\n",
       "        text-align: right;\n",
       "    }\n",
       "</style>\n",
       "<table border=\"1\" class=\"dataframe\">\n",
       "  <thead>\n",
       "    <tr style=\"text-align: right;\">\n",
       "      <th></th>\n",
       "      <th>A</th>\n",
       "      <th>B</th>\n",
       "      <th>issue</th>\n",
       "      <th>score</th>\n",
       "    </tr>\n",
       "  </thead>\n",
       "  <tbody>\n",
       "    <tr>\n",
       "      <th>5135</th>\n",
       "      <td>68</td>\n",
       "      <td>44</td>\n",
       "      <td>favorable</td>\n",
       "      <td>-8.557301</td>\n",
       "    </tr>\n",
       "    <tr>\n",
       "      <th>3391</th>\n",
       "      <td>45</td>\n",
       "      <td>48</td>\n",
       "      <td>favorable</td>\n",
       "      <td>-7.075183</td>\n",
       "    </tr>\n",
       "    <tr>\n",
       "      <th>5285</th>\n",
       "      <td>70</td>\n",
       "      <td>42</td>\n",
       "      <td>favorable</td>\n",
       "      <td>-6.037435</td>\n",
       "    </tr>\n",
       "    <tr>\n",
       "      <th>1620</th>\n",
       "      <td>22</td>\n",
       "      <td>25</td>\n",
       "      <td>favorable</td>\n",
       "      <td>-5.827465</td>\n",
       "    </tr>\n",
       "    <tr>\n",
       "      <th>316</th>\n",
       "      <td>5</td>\n",
       "      <td>13</td>\n",
       "      <td>favorable</td>\n",
       "      <td>-5.736559</td>\n",
       "    </tr>\n",
       "    <tr>\n",
       "      <th>4050</th>\n",
       "      <td>54</td>\n",
       "      <td>23</td>\n",
       "      <td>favorable</td>\n",
       "      <td>-5.663807</td>\n",
       "    </tr>\n",
       "    <tr>\n",
       "      <th>1066</th>\n",
       "      <td>15</td>\n",
       "      <td>3</td>\n",
       "      <td>favorable</td>\n",
       "      <td>-5.286383</td>\n",
       "    </tr>\n",
       "    <tr>\n",
       "      <th>1575</th>\n",
       "      <td>21</td>\n",
       "      <td>56</td>\n",
       "      <td>favorable</td>\n",
       "      <td>-5.227310</td>\n",
       "    </tr>\n",
       "    <tr>\n",
       "      <th>138</th>\n",
       "      <td>2</td>\n",
       "      <td>63</td>\n",
       "      <td>favorable</td>\n",
       "      <td>-5.143761</td>\n",
       "    </tr>\n",
       "    <tr>\n",
       "      <th>4386</th>\n",
       "      <td>58</td>\n",
       "      <td>55</td>\n",
       "      <td>favorable</td>\n",
       "      <td>-5.047349</td>\n",
       "    </tr>\n",
       "  </tbody>\n",
       "</table>\n",
       "</div>"
      ],
      "text/plain": [
       "       A   B      issue     score\n",
       "5135  68  44  favorable -8.557301\n",
       "3391  45  48  favorable -7.075183\n",
       "5285  70  42  favorable -6.037435\n",
       "1620  22  25  favorable -5.827465\n",
       "316    5  13  favorable -5.736559\n",
       "4050  54  23  favorable -5.663807\n",
       "1066  15   3  favorable -5.286383\n",
       "1575  21  56  favorable -5.227310\n",
       "138    2  63  favorable -5.143761\n",
       "4386  58  55  favorable -5.047349"
      ]
     },
     "execution_count": 15,
     "metadata": {},
     "output_type": "execute_result"
    }
   ],
   "source": [
    "import pandas as pd\n",
    "\n",
    "pd.DataFrame(scores).sort_values('score').head(10)"
   ]
  },
  {
   "cell_type": "code",
   "execution_count": 21,
   "id": "d6c95275-b9a0-4bb1-a197-bd86e1596265",
   "metadata": {},
   "outputs": [],
   "source": []
  },
  {
   "cell_type": "code",
   "execution_count": 25,
   "id": "6c673037-c05a-4f95-bdf7-fd1b576da240",
   "metadata": {},
   "outputs": [
    {
     "data": {
      "text/plain": [
       "vector1_unsigned_long[1, 3, 5, 13, 15, 17, 21, 23, 25, 26, 27, 29, 30, 33, 34, 36, 38, 41, 43, 45, 50, 54, 56, 58, 59, 61, 65, 67, 69]"
      ]
     },
     "execution_count": 25,
     "metadata": {},
     "output_type": "execute_result"
    }
   ],
   "source": []
  },
  {
   "cell_type": "code",
   "execution_count": 19,
   "id": "4005eff0-5dee-494c-9fc8-bfedb2a46378",
   "metadata": {},
   "outputs": [
    {
     "data": {
      "text/plain": [
       "0.0"
      ]
     },
     "execution_count": 19,
     "metadata": {},
     "output_type": "execute_result"
    }
   ],
   "source": [
    "selector = prc.select.residue_selector.ResidueIndexSelector(43)\n",
    "prc.simple_metrics.metrics.SasaMetric(selector,prc.scoring.sasa.SasaMethodHPMode.ALL_SASA\n",
    "                                                               ).calculate(pose)"
   ]
  },
  {
   "cell_type": "code",
   "execution_count": 4,
   "id": "e77814b8-df62-4e9d-840c-365d2d1a62b8",
   "metadata": {},
   "outputs": [],
   "source": [
    "# from rdkit import Chem\n",
    "# block = ph.get_pdbstr(ref)\n",
    "# protein = Chem.MolFromPDBBlock(block)"
   ]
  },
  {
   "cell_type": "code",
   "execution_count": 3,
   "id": "c7651729",
   "metadata": {},
   "outputs": [],
   "source": [
    "from isopeptide_scan import IsopetideScanner, IsopetideType"
   ]
  },
  {
   "cell_type": "code",
   "execution_count": 10,
   "id": "24e9acf1",
   "metadata": {},
   "outputs": [
    {
     "name": "stdout",
     "output_type": "stream",
     "text": [
      "-4.530931473077589\n"
     ]
    },
    {
     "data": {
      "text/plain": [
       "-4.533316012880333"
      ]
     },
     "execution_count": 10,
     "metadata": {},
     "output_type": "execute_result"
    }
   ],
   "source": [
    "scanner = IsopetideScanner(pyrosetta.Pose())\n",
    "ideal: pyrosetta.Pose = scanner.create_ideal_isopeptide(7.4)\n",
    "print(scanner.scorefxn_cart_ex(ideal))\n",
    "score = scanner.score_isopeptide_plausibility(ideal.residue(1), ideal.residue(2))\n",
    "score"
   ]
  },
  {
   "cell_type": "code",
   "execution_count": 7,
   "id": "4544c51c",
   "metadata": {},
   "outputs": [],
   "source": [
    "scanner = IsopetideScanner(ref)"
   ]
  },
  {
   "cell_type": "code",
   "execution_count": 8,
   "id": "81d5faa0-3532-4155-9610-816e03f44234",
   "metadata": {},
   "outputs": [
    {
     "data": {
      "text/html": [
       "<div>\n",
       "<style scoped>\n",
       "    .dataframe tbody tr th:only-of-type {\n",
       "        vertical-align: middle;\n",
       "    }\n",
       "\n",
       "    .dataframe tbody tr th {\n",
       "        vertical-align: top;\n",
       "    }\n",
       "\n",
       "    .dataframe thead th {\n",
       "        text-align: right;\n",
       "    }\n",
       "</style>\n",
       "<table border=\"1\" class=\"dataframe\">\n",
       "  <thead>\n",
       "    <tr style=\"text-align: right;\">\n",
       "      <th></th>\n",
       "      <th>constraint_name</th>\n",
       "      <th>function_name</th>\n",
       "      <th>funpart</th>\n",
       "      <th>score</th>\n",
       "      <th>atom_1</th>\n",
       "      <th>atom_2</th>\n",
       "      <th>atom_3</th>\n",
       "    </tr>\n",
       "  </thead>\n",
       "  <tbody>\n",
       "    <tr>\n",
       "      <th>0</th>\n",
       "      <td>AtomPairConstraint</td>\n",
       "      <td>HarmonicFunc</td>\n",
       "      <td>7.40/0.20</td>\n",
       "      <td>0.000105</td>\n",
       "      <td>:</td>\n",
       "      <td>NaN</td>\n",
       "      <td>NaN</td>\n",
       "    </tr>\n",
       "    <tr>\n",
       "      <th>1</th>\n",
       "      <td>AtomPairConstraint</td>\n",
       "      <td>HarmonicFunc</td>\n",
       "      <td>1.30/0.30</td>\n",
       "      <td>0.009280</td>\n",
       "      <td>:</td>\n",
       "      <td>NaN</td>\n",
       "      <td>NaN</td>\n",
       "    </tr>\n",
       "    <tr>\n",
       "      <th>2</th>\n",
       "      <td>AtomPairConstraint</td>\n",
       "      <td>HarmonicFunc</td>\n",
       "      <td>2.40/0.30</td>\n",
       "      <td>0.002254</td>\n",
       "      <td>:</td>\n",
       "      <td>NaN</td>\n",
       "      <td>NaN</td>\n",
       "    </tr>\n",
       "    <tr>\n",
       "      <th>3</th>\n",
       "      <td>AtomPairConstraint</td>\n",
       "      <td>HarmonicFunc</td>\n",
       "      <td>3.20/0.30</td>\n",
       "      <td>0.010339</td>\n",
       "      <td>:</td>\n",
       "      <td>NaN</td>\n",
       "      <td>NaN</td>\n",
       "    </tr>\n",
       "    <tr>\n",
       "      <th>4</th>\n",
       "      <td>AngleConstraint</td>\n",
       "      <td>CircularHarmonicFunc</td>\n",
       "      <td>2.08/0.20</td>\n",
       "      <td>0.003307</td>\n",
       "      <td>:</td>\n",
       "      <td>A</td>\n",
       "      <td>NaN</td>\n",
       "    </tr>\n",
       "    <tr>\n",
       "      <th>5</th>\n",
       "      <td>AngleConstraint</td>\n",
       "      <td>CircularHarmonicFunc</td>\n",
       "      <td>2.08/0.20</td>\n",
       "      <td>0.026461</td>\n",
       "      <td>:</td>\n",
       "      <td>A</td>\n",
       "      <td>NaN</td>\n",
       "    </tr>\n",
       "    <tr>\n",
       "      <th>6</th>\n",
       "      <td>DihedralConstraint</td>\n",
       "      <td>CircularHarmonicFunc</td>\n",
       "      <td>3.14/0.20</td>\n",
       "      <td>0.000007</td>\n",
       "      <td>:</td>\n",
       "      <td>A</td>\n",
       "      <td>.</td>\n",
       "    </tr>\n",
       "    <tr>\n",
       "      <th>7</th>\n",
       "      <td>DihedralConstraint</td>\n",
       "      <td>CircularHarmonicFunc</td>\n",
       "      <td>3.14/0.20</td>\n",
       "      <td>0.000019</td>\n",
       "      <td>:</td>\n",
       "      <td>A</td>\n",
       "      <td>.</td>\n",
       "    </tr>\n",
       "  </tbody>\n",
       "</table>\n",
       "</div>"
      ],
      "text/plain": [
       "      constraint_name         function_name    funpart     score atom_1  \\\n",
       "0  AtomPairConstraint          HarmonicFunc  7.40/0.20  0.000105      :   \n",
       "1  AtomPairConstraint          HarmonicFunc  1.30/0.30  0.009280      :   \n",
       "2  AtomPairConstraint          HarmonicFunc  2.40/0.30  0.002254      :   \n",
       "3  AtomPairConstraint          HarmonicFunc  3.20/0.30  0.010339      :   \n",
       "4     AngleConstraint  CircularHarmonicFunc  2.08/0.20  0.003307      :   \n",
       "5     AngleConstraint  CircularHarmonicFunc  2.08/0.20  0.026461      :   \n",
       "6  DihedralConstraint  CircularHarmonicFunc  3.14/0.20  0.000007      :   \n",
       "7  DihedralConstraint  CircularHarmonicFunc  3.14/0.20  0.000019      :   \n",
       "\n",
       "  atom_2 atom_3  \n",
       "0    NaN    NaN  \n",
       "1    NaN    NaN  \n",
       "2    NaN    NaN  \n",
       "3    NaN    NaN  \n",
       "4      A    NaN  \n",
       "5      A    NaN  \n",
       "6      A      .  \n",
       "7      A      .  "
      ]
     },
     "execution_count": 8,
     "metadata": {},
     "output_type": "execute_result"
    }
   ],
   "source": [
    "#ph.constraints2pandas(ideal)"
   ]
  },
  {
   "cell_type": "code",
   "execution_count": 9,
   "id": "42208a13-2ef6-4fa3-8274-a005674458f9",
   "metadata": {},
   "outputs": [
    {
     "data": {
      "text/html": [
       "<div>\n",
       "<style scoped>\n",
       "    .dataframe tbody tr th:only-of-type {\n",
       "        vertical-align: middle;\n",
       "    }\n",
       "\n",
       "    .dataframe tbody tr th {\n",
       "        vertical-align: top;\n",
       "    }\n",
       "\n",
       "    .dataframe thead th {\n",
       "        text-align: right;\n",
       "    }\n",
       "</style>\n",
       "<table border=\"1\" class=\"dataframe\">\n",
       "  <thead>\n",
       "    <tr style=\"text-align: right;\">\n",
       "      <th></th>\n",
       "      <th>0</th>\n",
       "      <th>1</th>\n",
       "    </tr>\n",
       "  </thead>\n",
       "  <tbody>\n",
       "    <tr>\n",
       "      <th>fa_atr</th>\n",
       "      <td>-1.351528</td>\n",
       "      <td>-1.351528</td>\n",
       "    </tr>\n",
       "    <tr>\n",
       "      <th>fa_rep</th>\n",
       "      <td>0.851069</td>\n",
       "      <td>0.851069</td>\n",
       "    </tr>\n",
       "    <tr>\n",
       "      <th>fa_sol</th>\n",
       "      <td>1.559859</td>\n",
       "      <td>1.559859</td>\n",
       "    </tr>\n",
       "    <tr>\n",
       "      <th>fa_intra_rep</th>\n",
       "      <td>1.086644</td>\n",
       "      <td>3.186784</td>\n",
       "    </tr>\n",
       "    <tr>\n",
       "      <th>fa_intra_sol_xover4</th>\n",
       "      <td>0.237275</td>\n",
       "      <td>0.145789</td>\n",
       "    </tr>\n",
       "    <tr>\n",
       "      <th>lk_ball_wtd</th>\n",
       "      <td>0.071025</td>\n",
       "      <td>0.071025</td>\n",
       "    </tr>\n",
       "    <tr>\n",
       "      <th>fa_elec</th>\n",
       "      <td>-0.752132</td>\n",
       "      <td>-0.752132</td>\n",
       "    </tr>\n",
       "    <tr>\n",
       "      <th>hbond_sr_bb</th>\n",
       "      <td>0.0</td>\n",
       "      <td>0.0</td>\n",
       "    </tr>\n",
       "    <tr>\n",
       "      <th>hbond_lr_bb</th>\n",
       "      <td>0.0</td>\n",
       "      <td>0.0</td>\n",
       "    </tr>\n",
       "    <tr>\n",
       "      <th>hbond_bb_sc</th>\n",
       "      <td>0.0</td>\n",
       "      <td>0.0</td>\n",
       "    </tr>\n",
       "    <tr>\n",
       "      <th>hbond_sc</th>\n",
       "      <td>0.0</td>\n",
       "      <td>0.0</td>\n",
       "    </tr>\n",
       "    <tr>\n",
       "      <th>dslf_fa13</th>\n",
       "      <td>0.0</td>\n",
       "      <td>0.0</td>\n",
       "    </tr>\n",
       "    <tr>\n",
       "      <th>atom_pair_constraint</th>\n",
       "      <td>0.010989</td>\n",
       "      <td>0.010989</td>\n",
       "    </tr>\n",
       "    <tr>\n",
       "      <th>coordinate_constraint</th>\n",
       "      <td>0.0</td>\n",
       "      <td>0.0</td>\n",
       "    </tr>\n",
       "    <tr>\n",
       "      <th>angle_constraint</th>\n",
       "      <td>0.014884</td>\n",
       "      <td>0.014884</td>\n",
       "    </tr>\n",
       "    <tr>\n",
       "      <th>dihedral_constraint</th>\n",
       "      <td>0.000013</td>\n",
       "      <td>0.000013</td>\n",
       "    </tr>\n",
       "    <tr>\n",
       "      <th>omega</th>\n",
       "      <td>0.0</td>\n",
       "      <td>0.0</td>\n",
       "    </tr>\n",
       "    <tr>\n",
       "      <th>fa_dun</th>\n",
       "      <td>9.490713</td>\n",
       "      <td>20.000738</td>\n",
       "    </tr>\n",
       "    <tr>\n",
       "      <th>p_aa_pp</th>\n",
       "      <td>-0.504933</td>\n",
       "      <td>1.02871</td>\n",
       "    </tr>\n",
       "    <tr>\n",
       "      <th>yhh_planarity</th>\n",
       "      <td>0.0</td>\n",
       "      <td>0.0</td>\n",
       "    </tr>\n",
       "    <tr>\n",
       "      <th>ref</th>\n",
       "      <td>-2.14574</td>\n",
       "      <td>-0.71458</td>\n",
       "    </tr>\n",
       "    <tr>\n",
       "      <th>rama_prepro</th>\n",
       "      <td>0.0</td>\n",
       "      <td>0.0</td>\n",
       "    </tr>\n",
       "    <tr>\n",
       "      <th>cart_bonded</th>\n",
       "      <td>0.385007</td>\n",
       "      <td>0.576832</td>\n",
       "    </tr>\n",
       "    <tr>\n",
       "      <th>total_score</th>\n",
       "      <td>4.754756</td>\n",
       "      <td>14.478047</td>\n",
       "    </tr>\n",
       "    <tr>\n",
       "      <th>residue</th>\n",
       "      <td>D1 A</td>\n",
       "      <td>K1 A</td>\n",
       "    </tr>\n",
       "  </tbody>\n",
       "</table>\n",
       "</div>"
      ],
      "text/plain": [
       "                              0          1\n",
       "fa_atr                -1.351528  -1.351528\n",
       "fa_rep                 0.851069   0.851069\n",
       "fa_sol                 1.559859   1.559859\n",
       "fa_intra_rep           1.086644   3.186784\n",
       "fa_intra_sol_xover4    0.237275   0.145789\n",
       "lk_ball_wtd            0.071025   0.071025\n",
       "fa_elec               -0.752132  -0.752132\n",
       "hbond_sr_bb                 0.0        0.0\n",
       "hbond_lr_bb                 0.0        0.0\n",
       "hbond_bb_sc                 0.0        0.0\n",
       "hbond_sc                    0.0        0.0\n",
       "dslf_fa13                   0.0        0.0\n",
       "atom_pair_constraint   0.010989   0.010989\n",
       "coordinate_constraint       0.0        0.0\n",
       "angle_constraint       0.014884   0.014884\n",
       "dihedral_constraint    0.000013   0.000013\n",
       "omega                       0.0        0.0\n",
       "fa_dun                 9.490713  20.000738\n",
       "p_aa_pp               -0.504933    1.02871\n",
       "yhh_planarity               0.0        0.0\n",
       "ref                    -2.14574   -0.71458\n",
       "rama_prepro                 0.0        0.0\n",
       "cart_bonded            0.385007   0.576832\n",
       "total_score            4.754756  14.478047\n",
       "residue                   D1 A       K1 A "
      ]
     },
     "execution_count": 9,
     "metadata": {},
     "output_type": "execute_result"
    }
   ],
   "source": [
    "import numpy as np\n",
    "np.alltrue = np.all\n",
    "ph.pose2pandas(ideal, scanner.scorefxn_cart).T"
   ]
  },
  {
   "cell_type": "code",
   "execution_count": 34,
   "id": "db0fd05d-80ef-4358-b846-1c461900049a",
   "metadata": {},
   "outputs": [
    {
     "name": "stdout",
     "output_type": "stream",
     "text": [
      "|                       |   D117 A  |   K31 A  |\n",
      "|:----------------------|----------:|---------:|\n",
      "| fa_atr                |      -6.4 |     -9.1 |\n",
      "| fa_rep                |     110.9 |     84.5 |\n",
      "| fa_sol                |       8.3 |      9.3 |\n",
      "| fa_intra_rep          |       1.4 |      3.7 |\n",
      "| fa_intra_sol_xover4   |       0.6 |      0.6 |\n",
      "| lk_ball_wtd           |       0.4 |     -0.3 |\n",
      "| fa_elec               |      -0.7 |     -2.6 |\n",
      "| hbond_sr_bb           |       0   |      0   |\n",
      "| hbond_lr_bb           |      -0.5 |     -0.6 |\n",
      "| hbond_bb_sc           |       0   |      0   |\n",
      "| hbond_sc              |       0   |      0   |\n",
      "| dslf_fa13             |       0   |      0   |\n",
      "| atom_pair_constraint  |       0   |      0   |\n",
      "| coordinate_constraint |       0   |      0   |\n",
      "| angle_constraint      |       0   |      0   |\n",
      "| dihedral_constraint   |       0   |      0   |\n",
      "| omega                 |       0.3 |      0.1 |\n",
      "| fa_dun                |       4.7 |     14.6 |\n",
      "| p_aa_pp               |       0.4 |      0.6 |\n",
      "| yhh_planarity         |       0   |      0   |\n",
      "| ref                   |      -2.1 |     -0.7 |\n",
      "| rama_prepro           |      -0.3 |      0.3 |\n",
      "| cart_bonded           |       0.6 |      2.4 |\n",
      "| total_score           |      64.4 |     55.1 |\n"
     ]
    }
   ],
   "source": [
    "import numpy as np\n",
    "np.alltrue = np.all\n",
    "\n",
    "print(ph.pose2pandas(ref, scanner.scorefxn_cart).set_index('residue').T[['D117 A ', 'K31 A ']].round(1).to_markdown())"
   ]
  },
  {
   "cell_type": "code",
   "execution_count": 12,
   "id": "ae7d8a5c",
   "metadata": {},
   "outputs": [],
   "source": []
  },
  {
   "cell_type": "code",
   "execution_count": 13,
   "id": "eefc95de-1069-48c2-9b0e-8b2f7578c03c",
   "metadata": {},
   "outputs": [
    {
     "name": "stdout",
     "output_type": "stream",
     "text": [
      "isopeptide residues are correct...  True\n",
      "residue are at 7.159022419297209 Å\n",
      "score -1.0980031075230057\n"
     ]
    }
   ],
   "source": [
    "filename = '2x5p.pdb'  # Streptococcus pyogenes fibronectin binding protein Fbab-B = spyCatcher parent\n",
    "ref:pyrosetta.Pose = pyrosetta.pose_from_file(filename)  # noqa\n",
    "pyrosetta.rosetta.core.pose.remove_nonprotein_residues(ref)\n",
    "print( ref.sequence() )\n",
    "asp117 = ref.pdb_rsd(('A', 117))\n",
    "lys31 = ref.pdb_rsd(('A', 31))\n",
    "assert asp117.name3() == 'ASP'\n",
    "assert lys31.name3() == 'LYS'\n",
    "scanner = IsopetideScanner(ref)\n",
    "print('isopeptide residues are correct... ', scanner.is_suitable(lys31, asp117))\n",
    "d: float = lys31.xyz('CA').distance( asp117.xyz('CA') )\n",
    "print('residue are at', d, 'Å')\n",
    "print('score', scanner.score_isopeptide_plausibility(lys31, asp117))"
   ]
  },
  {
   "cell_type": "code",
   "execution_count": null,
   "id": "dab58825-8076-436b-827c-de97d8e05722",
   "metadata": {},
   "outputs": [],
   "source": []
  },
  {
   "cell_type": "code",
   "execution_count": 52,
   "id": "175dca45-c1a0-4959-993f-f09c52a0c81f",
   "metadata": {},
   "outputs": [
    {
     "data": {
      "text/plain": [
       "<pyrosetta.rosetta.core.scoring.func.HarmonicFunc at 0x30ba55c70>"
      ]
     },
     "execution_count": 52,
     "metadata": {},
     "output_type": "execute_result"
    }
   ],
   "source": [
    "ideal.constraint_set().get_all_constraints()[8].get_func().x0()"
   ]
  },
  {
   "cell_type": "code",
   "execution_count": null,
   "id": "cf90f587-ff9a-406a-a6a1-5a3f65858a30",
   "metadata": {},
   "outputs": [],
   "source": [
    "pose_ops.relax_weighted_cart(pose, self.scorefxn_cart)"
   ]
  },
  {
   "cell_type": "code",
   "execution_count": 26,
   "id": "b7a615c5-e45f-4b4d-81b2-270945277f47",
   "metadata": {},
   "outputs": [
    {
     "ename": "AttributeError",
     "evalue": "'pyrosetta.rosetta.core.scoring.constraints.Dihedra' object has no attribute 'atom1'",
     "output_type": "error",
     "traceback": [
      "\u001b[0;31m---------------------------------------------------------------------------\u001b[0m",
      "\u001b[0;31mAttributeError\u001b[0m                            Traceback (most recent call last)",
      "Cell \u001b[0;32mIn[26], line 6\u001b[0m\n\u001b[1;32m      4\u001b[0m rows \u001b[38;5;241m=\u001b[39m []\n\u001b[1;32m      5\u001b[0m \u001b[38;5;28;01mfor\u001b[39;00m con \u001b[38;5;129;01min\u001b[39;00m cs\u001b[38;5;241m.\u001b[39mget_all_constraints():\n\u001b[0;32m----> 6\u001b[0m     rows\u001b[38;5;241m.\u001b[39mappend(ph\u001b[38;5;241m.\u001b[39mcommon_ops\u001b[38;5;241m.\u001b[39mconstraints\u001b[38;5;241m.\u001b[39mget_constraint_score_data(ideal, con))\n\u001b[1;32m      7\u001b[0m pd\u001b[38;5;241m.\u001b[39mDataFrame(rows)\n",
      "File \u001b[0;32m~/.conda/envs/py311/lib/python3.11/site-packages/pyrosetta_help/common_ops/constraints.py:57\u001b[0m, in \u001b[0;36mget_constraint_score_data\u001b[0;34m(pose, con)\u001b[0m\n\u001b[1;32m     49\u001b[0m \u001b[38;5;28;01mdef\u001b[39;00m \u001b[38;5;21mget_constraint_score_data\u001b[39m(pose: pyrosetta\u001b[38;5;241m.\u001b[39mPose, con) \u001b[38;5;241m-\u001b[39m\u001b[38;5;241m>\u001b[39m \u001b[38;5;28mdict\u001b[39m:\n\u001b[1;32m     50\u001b[0m \u001b[38;5;250m    \u001b[39m\u001b[38;5;124;03m\"\"\"\u001b[39;00m\n\u001b[1;32m     51\u001b[0m \u001b[38;5;124;03m    Print the constraint details. atoms and score\u001b[39;00m\n\u001b[1;32m     52\u001b[0m \n\u001b[0;32m   (...)\u001b[0m\n\u001b[1;32m     55\u001b[0m \u001b[38;5;124;03m    :return:\u001b[39;00m\n\u001b[1;32m     56\u001b[0m \u001b[38;5;124;03m    \"\"\"\u001b[39;00m\n\u001b[0;32m---> 57\u001b[0m     a \u001b[38;5;241m=\u001b[39m get_NGL_selection_from_AtomID(pose, con\u001b[38;5;241m.\u001b[39matom1())\n\u001b[1;32m     58\u001b[0m     b \u001b[38;5;241m=\u001b[39m get_NGL_selection_from_AtomID(pose, con\u001b[38;5;241m.\u001b[39matom2())\n\u001b[1;32m     59\u001b[0m     fun \u001b[38;5;241m=\u001b[39m con\u001b[38;5;241m.\u001b[39mget_func()\n",
      "\u001b[0;31mAttributeError\u001b[0m: 'pyrosetta.rosetta.core.scoring.constraints.Dihedra' object has no attribute 'atom1'"
     ]
    }
   ],
   "source": [
    "#ph.constraints2pandas(ideal)\n",
    "\n",
    "cs = ideal.constraint_set()\n",
    "rows = []\n",
    "for con in cs.get_all_constraints():\n",
    "    rows.append(ph.common_ops.constraints.get_constraint_score_data(ideal, con))\n",
    "pd.DataFrame(rows)"
   ]
  },
  {
   "cell_type": "code",
   "execution_count": 48,
   "id": "e559b0f8-ed91-42e7-9029-a5375cf40225",
   "metadata": {},
   "outputs": [
    {
     "data": {
      "text/plain": [
       "2"
      ]
     },
     "execution_count": 48,
     "metadata": {},
     "output_type": "execute_result"
    }
   ],
   "source": [
    "con.natoms()"
   ]
  },
  {
   "cell_type": "code",
   "execution_count": null,
   "id": "01111ee9-c1f0-4f3e-a710-aedca9684213",
   "metadata": {},
   "outputs": [],
   "source": [
    "# ideal score is very inconsistent!"
   ]
  },
  {
   "cell_type": "code",
   "execution_count": null,
   "id": "a00bbb9a",
   "metadata": {},
   "outputs": [],
   "source": [
    "import py3Dmol\n",
    "# from fragmenstein.display import py3Dmol_monkey_patch, divergent_colors\n",
    "\n",
    "# view = py3Dmol.view()\n",
    "# view.add_template(carbon_color=color, mol=mol, opacity=0.7)"
   ]
  },
  {
   "cell_type": "code",
   "execution_count": 58,
   "id": "af85dd99-7836-409a-becb-002c296f9fab",
   "metadata": {},
   "outputs": [
    {
     "data": {
      "text/plain": [
       "['_pybind11_conduit_v1_',\n",
       " 'angle_constraint',\n",
       " 'atom_pair_constraint',\n",
       " 'backbone_stub_constraint',\n",
       " 'backbone_stub_linear_constraint',\n",
       " 'base_pair_constraint',\n",
       " 'big_bin_constraint',\n",
       " 'branch_conn',\n",
       " 'coarse_chainbreak_constraint',\n",
       " 'constant_constraint',\n",
       " 'coordinate_constraint',\n",
       " 'dihedral_constraint',\n",
       " 'dock_ens_conf',\n",
       " 'dof_constraint',\n",
       " 'dunbrack_constraint',\n",
       " 'interchain_contact',\n",
       " 'linear_branch_conn',\n",
       " 'membrane_span_constraint',\n",
       " 'membrane_span_term_z_constraint',\n",
       " 'metalbinding_constraint',\n",
       " 'metalhash_constraint',\n",
       " 'pocket_constraint',\n",
       " 'res_type_constraint',\n",
       " 'res_type_linking_constraint',\n",
       " 'sap_constraint',\n",
       " 'site_constraint',\n",
       " 'ss_contact_worst']"
      ]
     },
     "execution_count": 58,
     "metadata": {},
     "output_type": "execute_result"
    }
   ],
   "source": [
    "[n for n in dir(prc.scoring.ScoreType) if 'con' in n]"
   ]
  },
  {
   "cell_type": "code",
   "execution_count": null,
   "id": "63fdcbc8",
   "metadata": {},
   "outputs": [],
   "source": [
    "help(py3Dmol)"
   ]
  },
  {
   "cell_type": "code",
   "execution_count": null,
   "id": "780ac5dc",
   "metadata": {},
   "outputs": [],
   "source": [
    "Chem.MolFromMolFile('/Users/user/iso.mol')"
   ]
  },
  {
   "cell_type": "code",
   "execution_count": 26,
   "id": "04dff071",
   "metadata": {},
   "outputs": [
    {
     "data": {
      "text/plain": [
       "31.991039401562432"
      ]
     },
     "execution_count": 26,
     "metadata": {},
     "output_type": "execute_result"
    }
   ],
   "source": [
    "from rdkit import Chem\n",
    "from typing import Tuple\n",
    "from rdkit.Chem import AllChem\n",
    "\n",
    "isopeptide = Chem.MolFromSmiles(\"C([C@@H](C(=O))N)C(=O)NCCCC[C@@H](C(=O))N\")\n",
    "isopeptide: Chem.Mol = Chem.MolFromPDBBlock(ph.get_pdbstr(test))\n",
    "isopeptide: Chem.Mol = Chem.MolFromMolFile('/Users/user/iso.mol')    \n",
    "    \n",
    "bad_amide = Chem.MolFromSmiles('C(-O)-N')\n",
    "if isopeptide.HasSubstructMatch(bad_amide):\n",
    "    # PDB bond order is wrong\n",
    "    c, o, n = isopeptide.GetSubstructMatch(bad_amide)\n",
    "    isopeptide.GetBondBetweenAtoms(c, o).SetBondType(Chem.BondType.DOUBLE)\n",
    "    isopeptide.GetAtomWithIdx(o).SetNumExplicitHs(0)\n",
    "    isopeptide.GetAtomWithIdx(n).SetNumExplicitHs(1)\n",
    "    isopeptide.GetAtomWithIdx(o).SetFormalCharge(0)\n",
    "    isopeptide.GetAtomWithIdx(n).SetFormalCharge(0)\n",
    "\n",
    "AllChem.SanitizeMol(isopeptide)\n",
    "isopeptide = AllChem.AddHs(isopeptide, addCoords=True)\n",
    "isopeptide.RemoveAllConformers()\n",
    "AllChem.EmbedMolecule(isopeptide)\n",
    "p = AllChem.MMFFGetMoleculeProperties(isopeptide, 'MMFF94')\n",
    "ff = AllChem.MMFFGetMoleculeForceField(isopeptide, p, ignoreInterfragInteractions=False)\n",
    "ff.Initialize()\n",
    "ff.Minimize()\n",
    "ff.CalcEnergy()"
   ]
  },
  {
   "cell_type": "code",
   "execution_count": 27,
   "id": "7b2c4131-64e1-4e1d-9101-76daf213cbd0",
   "metadata": {},
   "outputs": [
    {
     "data": {
      "text/plain": [
       "31.991030859356172"
      ]
     },
     "execution_count": 27,
     "metadata": {},
     "output_type": "execute_result"
    }
   ],
   "source": [
    "ff.Minimize()\n",
    "ff.CalcEnergy()"
   ]
  },
  {
   "cell_type": "code",
   "execution_count": 20,
   "id": "f0826a7f",
   "metadata": {},
   "outputs": [
    {
     "ename": "ValueError",
     "evalue": "Bad Conformer Id",
     "output_type": "error",
     "traceback": [
      "\u001b[0;31m---------------------------------------------------------------------------\u001b[0m",
      "\u001b[0;31mValueError\u001b[0m                                Traceback (most recent call last)",
      "Cell \u001b[0;32mIn[20], line 2\u001b[0m\n\u001b[1;32m      1\u001b[0m p \u001b[38;5;241m=\u001b[39m AllChem\u001b[38;5;241m.\u001b[39mMMFFGetMoleculeProperties(isopeptide, \u001b[38;5;124m'\u001b[39m\u001b[38;5;124mMMFF94\u001b[39m\u001b[38;5;124m'\u001b[39m)\n\u001b[0;32m----> 2\u001b[0m ff \u001b[38;5;241m=\u001b[39m AllChem\u001b[38;5;241m.\u001b[39mMMFFGetMoleculeForceField(isopeptide, p, ignoreInterfragInteractions\u001b[38;5;241m=\u001b[39m\u001b[38;5;28;01mFalse\u001b[39;00m)\n\u001b[1;32m      3\u001b[0m ff\u001b[38;5;241m.\u001b[39mInitialize()\n\u001b[1;32m      4\u001b[0m bb: Tuple[Tuple[\u001b[38;5;28mint\u001b[39m, \u001b[38;5;241m.\u001b[39m\u001b[38;5;241m.\u001b[39m\u001b[38;5;241m.\u001b[39m]]\n",
      "\u001b[0;31mValueError\u001b[0m: Bad Conformer Id"
     ]
    }
   ],
   "source": [
    "p = AllChem.MMFFGetMoleculeProperties(isopeptide, 'MMFF94')\n",
    "ff = AllChem.MMFFGetMoleculeForceField(isopeptide, p, ignoreInterfragInteractions=False)\n",
    "ff.Initialize()\n",
    "bb: Tuple[Tuple[int, ...]]\n",
    "bi: int\n",
    "for bb in isopeptide.GetSubstructMatches( Chem.MolFromSmiles('NCC(=O)') ):\n",
    "    for bi in bb:\n",
    "        ff.AddFixedPoint(bi)\n",
    "ff.CalcEnergy()"
   ]
  },
  {
   "cell_type": "code",
   "execution_count": 18,
   "id": "65e0b27b",
   "metadata": {},
   "outputs": [
    {
     "data": {
      "text/plain": [
       "54.62919603372348"
      ]
     },
     "execution_count": 18,
     "metadata": {},
     "output_type": "execute_result"
    }
   ],
   "source": [
    "ff.Minimize()\n",
    "ff.CalcEnergy()"
   ]
  },
  {
   "cell_type": "code",
   "execution_count": null,
   "id": "4f5ef851",
   "metadata": {},
   "outputs": [],
   "source": [
    "Chem.MolToMolFile(isopeptide, 'test.mol')"
   ]
  },
  {
   "cell_type": "code",
   "execution_count": null,
   "id": "5bf43440",
   "metadata": {},
   "outputs": [],
   "source": []
  },
  {
   "cell_type": "code",
   "execution_count": 41,
   "id": "0664273d",
   "metadata": {},
   "outputs": [
    {
     "name": "stdout",
     "output_type": "stream",
     "text": [
      " N  \n",
      " CA \n",
      " C  \n",
      " O  \n",
      " CB \n",
      " CG \n",
      " OD1\n",
      " OD2\n",
      " H  \n",
      " HA \n",
      "1HB \n",
      "2HB \n"
     ]
    }
   ],
   "source": [
    "asx = asp117\n",
    "\n",
    "for i in range(1, 1+asx.natoms()):\n",
    "    print(asx.atom_name(i))"
   ]
  },
  {
   "cell_type": "code",
   "execution_count": 43,
   "id": "81b06b1a",
   "metadata": {},
   "outputs": [
    {
     "name": "stdout",
     "output_type": "stream",
     "text": [
      "isopeptide residues are correct...  True\n"
     ]
    },
    {
     "data": {
      "text/plain": [
       "27.00276003938617"
      ]
     },
     "execution_count": 43,
     "metadata": {},
     "output_type": "execute_result"
    }
   ],
   "source": []
  },
  {
   "cell_type": "code",
   "execution_count": null,
   "id": "8e4eb401",
   "metadata": {},
   "outputs": [],
   "source": []
  },
  {
   "cell_type": "code",
   "execution_count": null,
   "id": "901a7c70",
   "metadata": {},
   "outputs": [],
   "source": [
    "test = scanner.ideal_template.clone()\n",
    "scanner.copy_backbone(donor_residue=asp117, acceptor_residue=test.residue(1))\n",
    "scanner.copy_backbone(donor_residue=lys31, acceptor_residue=test.residue(2))"
   ]
  },
  {
   "cell_type": "code",
   "execution_count": null,
   "id": "2bfbb3eb",
   "metadata": {},
   "outputs": [],
   "source": [
    "from isopeptide_scan import PoseOps\n",
    "\n",
    "test_ops = PoseOps(test)\n",
    "test_ops.relax_sidechains(scanner.scorefxn, 3)\n",
    "test.dump_pdb('test.pdb')"
   ]
  },
  {
   "cell_type": "code",
   "execution_count": null,
   "id": "8b1afc80",
   "metadata": {},
   "outputs": [],
   "source": [
    "scanner.scorefxn(test)"
   ]
  },
  {
   "cell_type": "code",
   "execution_count": null,
   "id": "9aec5f28",
   "metadata": {},
   "outputs": [],
   "source": [
    "scanner.is_suitable(26, 67)"
   ]
  },
  {
   "cell_type": "code",
   "execution_count": null,
   "id": "2927fa3d",
   "metadata": {},
   "outputs": [],
   "source": [
    "ideal: pyrosetta.Pose = scanner.create_ideal_isopeptide(8)\n",
    "scanner.score_isopeptide(ideal.residue(1), ideal.residue(2))"
   ]
  },
  {
   "cell_type": "code",
   "execution_count": null,
   "id": "d6eda2d0",
   "metadata": {},
   "outputs": [],
   "source": []
  },
  {
   "cell_type": "code",
   "execution_count": null,
   "id": "e3af7672",
   "metadata": {},
   "outputs": [],
   "source": []
  },
  {
   "cell_type": "code",
   "execution_count": null,
   "id": "1d9da679",
   "metadata": {},
   "outputs": [],
   "source": []
  },
  {
   "cell_type": "code",
   "execution_count": null,
   "id": "dae231b2",
   "metadata": {},
   "outputs": [],
   "source": [
    "trash = pyrosetta.pose_from_sequence('DK')"
   ]
  },
  {
   "cell_type": "code",
   "execution_count": null,
   "id": "342e843e",
   "metadata": {},
   "outputs": [],
   "source": [
    "[c.to_string().split('\\n')[0] for c in ideal.constraint_set().get_all_constraints()]"
   ]
  },
  {
   "cell_type": "code",
   "execution_count": null,
   "id": "4ffbaaf2",
   "metadata": {},
   "outputs": [],
   "source": [
    "c = _[1]"
   ]
  },
  {
   "cell_type": "code",
   "execution_count": null,
   "id": "b6fdd1ff",
   "metadata": {},
   "outputs": [],
   "source": [
    "c"
   ]
  },
  {
   "cell_type": "code",
   "execution_count": null,
   "id": "685e7e93-d283-4368-a4ff-0fe6d6017b9d",
   "metadata": {},
   "outputs": [],
   "source": [
    "TestIsopetide§a"
   ]
  },
  {
   "cell_type": "code",
   "execution_count": null,
   "id": "5b61e471",
   "metadata": {},
   "outputs": [],
   "source": [
    "NO LONGER VALID\n",
    "\n",
    "\n",
    "ori_test = create_test()\n",
    "print(ori_test.sequence())\n",
    "\n",
    "ori_test.remove_constraints()\n",
    "constrain_isopeptide(ori_test)\n",
    "constrain_CA_distance(ori_test, 9)\n",
    "scorefxn=pyrosetta.create_score_function('ref2015_cart')\n",
    "scorefxn.set_weight(pyrosetta.rosetta.core.scoring.ScoreType.dihedral_constraint, 5)\n",
    "movemap = pyrosetta.MoveMap()\n",
    "movemap.set_bb(True)\n",
    "movemap.set_chi(True)\n",
    "movemap.set_jump(True)\n",
    "relax = pyrosetta.rosetta.protocols.relax.FastRelax(scorefxn, 5)\n",
    "#relax.set_movemap_disables_packing_of_fixed_chi_positions(True)\n",
    "relax.set_movemap(movemap)\n",
    "relax.apply(ori_test)\n",
    "\n",
    "ori_test.remove_constraints()\n",
    "constrain_isopeptide(ori_test)"
   ]
  },
  {
   "cell_type": "code",
   "execution_count": null,
   "id": "ad87bf23",
   "metadata": {},
   "outputs": [],
   "source": [
    "# ## Show\n",
    "import nglview as nv\n",
    "\n",
    "nv.show_rosetta(test)"
   ]
  },
  {
   "cell_type": "code",
   "execution_count": null,
   "id": "86cf0729",
   "metadata": {
    "scrolled": true
   },
   "outputs": [],
   "source": [
    "\n",
    "    \n",
    "    \n",
    "scorefxn=pyrosetta.create_score_function('ref2015_cart')\n",
    "scorefxn.set_weight(pyrosetta.rosetta.core.scoring.ScoreType.dihedral_constraint, 5)\n",
    "scores = []\n",
    "for i, j in itertools.product(ph.pose_range(ref, protein_only=True), repeat=2):\n",
    "    if i == j:\n",
    "        continue\n",
    "    s = quick_score_layout(asx=ref.residue(i), lys=ref.residue(j))\n",
    "    scores.append((i, j, s))"
   ]
  },
  {
   "cell_type": "code",
   "execution_count": null,
   "id": "f1639c28",
   "metadata": {},
   "outputs": [],
   "source": [
    "import pandas as pd\n",
    "\n",
    "df = pd.DataFrame([dict(zip(['asx', 'lys', 'score'], s)) for s in scores])\n",
    "# px.imshow expects wide not long hence the df.pivot\n",
    "fig = px.imshow(df.pivot(index='asx',columns='lys').score,\n",
    "                color_continuous_scale='teal_r', range_color=[5, 20],\n",
    "                title='Potentially suitable asx-lys isopeptide resiude pairs',\n",
    "               )\n",
    "fig.update_layout(title_x=0.5)\n",
    "fig"
   ]
  },
  {
   "cell_type": "code",
   "execution_count": null,
   "id": "0587142d",
   "metadata": {},
   "outputs": [],
   "source": [
    "df.loc[df.score < 10].sort_values('score')"
   ]
  },
  {
   "cell_type": "code",
   "execution_count": null,
   "id": "a0959748",
   "metadata": {},
   "outputs": [],
   "source": [
    "asx_i = 54\n",
    "lys_i = 23\n",
    "mutant = ref.clone()\n",
    "MutateResidue = pyrosetta.rosetta.protocols.simple_moves.MutateResidue\n",
    "MutateResidue(target=asx_i, new_res='ASP:SidechainConjugation').apply(mutant)\n",
    "MutateResidue(target=lys_i, new_res='LYS:SidechainConjugation').apply(mutant)\n",
    "mutant.conformation().declare_chemical_bond(seqpos1=lys_i, atom_name1='NZ', seqpos2=asx_i, atom_name2='CG')\n",
    "constrain_isopeptide(mutant, asx_i, lys_i)\n",
    "\n",
    "movemap = pyrosetta.MoveMap()\n",
    "movemap.set_bb(False)\n",
    "movemap.set_chi(True)\n",
    "movemap.set_jump(True)\n",
    "relax = pyrosetta.rosetta.protocols.relax.FastRelax(scorefxn, 5)\n",
    "#relax.set_movemap_disables_packing_of_fixed_chi_positions(True)\n",
    "relax.set_movemap(movemap)\n",
    "relax.apply(ori_test)\n"
   ]
  },
  {
   "cell_type": "code",
   "execution_count": null,
   "id": "b8ce5212",
   "metadata": {},
   "outputs": [],
   "source": [
    "rts = test.residue_type_set_for_pose()\n",
    "rts.get_base_types_name3('ASP')[1]"
   ]
  },
  {
   "cell_type": "code",
   "execution_count": null,
   "id": "a5bc7254",
   "metadata": {},
   "outputs": [],
   "source": [
    "ref.residue(1)"
   ]
  },
  {
   "cell_type": "code",
   "execution_count": null,
   "id": "92c18b58",
   "metadata": {},
   "outputs": [],
   "source": [
    "# pyrosetta.rosetta.core.util.add_covalent_linkage(pose=test, \n",
    "#                                                  resA_pos=1, resB_pos=2, \n",
    "#                                                  resA_At=test.residue(1).atom_index('CG'), \n",
    "#                                                  resB_At=test.residue(2).atom_index('NZ'), \n",
    "#                                                  remove_hydrogens=True)"
   ]
  },
  {
   "cell_type": "markdown",
   "id": "b96ea4e3",
   "metadata": {},
   "source": [
    "```\n",
    "AtomPair NZ 9A CG 121A HARMONIC 1.30 0.3\n",
    "AtomPair CE 9A CG 121A HARMONIC 2.40 0.3\n",
    "AtomPair 1HZ 9A OD 121A HARMONIC 3.20 0.3\n",
    "Angle CE 9A NZ 9A CG 121A CIRCULARHARMONIC 2.08 0.2 #119 deg\n",
    "Angle NZ 9A CG 121A OD 121A CIRCULARHARMONIC 2.08 0.2\n",
    "Dihedral CE 9A NZ 9A CG 121A CB 121A CIRCULARHARMONIC 3.14159 0.2\n",
    "Dihedral 1HZ 9A NZ 9A CG 121A OD 121A CIRCULARHARMONIC 3.14159 0.2\n",
    "```\n",
    "\n",
    "cst_fa_weight 5"
   ]
  },
  {
   "cell_type": "code",
   "execution_count": null,
   "id": "5b8042a2",
   "metadata": {},
   "outputs": [],
   "source": [
    "#Angle CE 9A NZ 9A CG 121A CIRCULARHARMONIC 2.08 0.2 #119 deg\n",
    "#Angle NZ 9A CG 121A OD 121A CIRCULARHARMONIC 2.08 0.2"
   ]
  },
  {
   "cell_type": "code",
   "execution_count": null,
   "id": "4d55d86a",
   "metadata": {},
   "outputs": [],
   "source": [
    "test_ref = test.clone()"
   ]
  },
  {
   "cell_type": "code",
   "execution_count": null,
   "id": "27e9cf13",
   "metadata": {},
   "outputs": [],
   "source": [
    "import numpy as np\n",
    "cycles = 15\n",
    "movemap = pyrosetta.MoveMap()\n",
    "movemap.set_bb(True)\n",
    "movemap.set_chi(True)\n",
    "movemap.set_jump(True)\n",
    "scorefxn.set_weight(pyrosetta.rosetta.core.scoring.ScoreType.atom_pair_constraint, 5)\n",
    "relax = pyrosetta.rosetta.protocols.relax.FastRelax(scorefxn, cycles)\n",
    "#relax.set_movemap_disables_packing_of_fixed_chi_positions(True)\n",
    "relax.set_movemap(movemap)\n",
    "test_scores = {}\n",
    "for i in np.arange(0, 20.5, 0.1):\n",
    "    test = test_ref.clone()\n",
    "    test.remove_constraints()\n",
    "    constrain_CA_distance(test, i)\n",
    "    constrain_isopeptide(test)\n",
    "    relax.apply(test)\n",
    "    test_scores[i] = scorefxn(test)"
   ]
  },
  {
   "cell_type": "code",
   "execution_count": null,
   "id": "77cedf8e",
   "metadata": {},
   "outputs": [],
   "source": [
    "# distances\n",
    "\n",
    "test_scores = {0.0: 829.5172358840177,\n",
    "         0.1: 777.9509751175779,\n",
    "         0.2: 732.3929631395587,\n",
    "         0.30000000000000004: 690.5260730375543,\n",
    "         0.4: 648.9792405060249,\n",
    "         0.5: 608.4890636937826,\n",
    "         0.6000000000000001: 559.6898360629772,\n",
    "         0.7000000000000001: 786.8215729408977,\n",
    "         0.8: 492.4208966480116,\n",
    "         0.9: 460.69782700073995,\n",
    "         1.0: 416.1464918019651,\n",
    "         1.1: 388.2167777023903,\n",
    "         1.2000000000000002: 355.7450217050791,\n",
    "         1.3: 324.9045948803566,\n",
    "         1.4000000000000001: 294.0022992850152,\n",
    "         1.5: 471.3526100169143,\n",
    "         1.6: 435.39255033487046,\n",
    "         1.7000000000000002: 400.8312641648571,\n",
    "         1.8: 293.99621165753734,\n",
    "         1.9000000000000001: 165.30806028234093,\n",
    "         2.0: 238.20084971264444,\n",
    "         2.1: 126.27946820212944,\n",
    "         2.2: 173.5091105496658,\n",
    "         2.3000000000000003: 92.27074797734963,\n",
    "         2.4000000000000004: 152.10642654766116,\n",
    "         2.5: 90.05100643079703,\n",
    "         2.6: 116.83613775709578,\n",
    "         2.7: 101.83154271723377,\n",
    "         2.8000000000000003: 64.21554588287029,\n",
    "         2.9000000000000004: 57.432237087028554,\n",
    "         3.0: 51.313599118934846,\n",
    "         3.1: 101.23965703424105,\n",
    "         3.2: 40.975858535302024,\n",
    "         3.3000000000000003: 42.490549323505235,\n",
    "         3.4000000000000004: 66.88597038861194,\n",
    "         3.5: 23.565466644544614,\n",
    "         3.6: 53.32739774146941,\n",
    "         3.7: 27.293769761136915,\n",
    "         3.8000000000000003: 44.014241113292854,\n",
    "         3.9000000000000004: 44.586358393321866,\n",
    "         4.0: 39.75042010163031,\n",
    "         4.1000000000000005: 35.580049409262905,\n",
    "         4.2: 31.929280933765483,\n",
    "         4.3: 28.47305583076133,\n",
    "         4.4: 25.777379192084094,\n",
    "         4.5: 23.760757899099815,\n",
    "         4.6000000000000005: 21.992139570105163,\n",
    "         4.7: 20.447550739101732,\n",
    "         4.800000000000001: 19.101640456119974,\n",
    "         4.9: 17.91782606424314,\n",
    "         5.0: 16.872413827211243,\n",
    "         5.1000000000000005: 15.628627942201643,\n",
    "         5.2: 14.991896915243577,\n",
    "         5.300000000000001: 14.468741353220324,\n",
    "         5.4: 13.969408840194262,\n",
    "         5.5: 13.552741222367473,\n",
    "         5.6000000000000005: 13.181755789562168,\n",
    "         5.7: 12.760197270219331,\n",
    "         5.800000000000001: 12.384874316780248,\n",
    "         5.9: 12.039754944832548,\n",
    "         6.0: 11.691715175282901,\n",
    "         6.1000000000000005: 11.389567668692294,\n",
    "         6.2: 11.137846412576707,\n",
    "         6.300000000000001: 10.965292916235384,\n",
    "         6.4: 10.930483471931876,\n",
    "         6.5: 5.687119188705657,\n",
    "         6.6000000000000005: 10.727061644112414,\n",
    "         6.7: 10.66582620779735,\n",
    "         6.800000000000001: 5.058878547507912,\n",
    "         6.9: 7.903203781574227,\n",
    "         7.0: 10.53736860030605,\n",
    "         7.1000000000000005: 6.986290802337589,\n",
    "         7.2: 6.5703075833452615,\n",
    "         7.300000000000001: 6.159069125681946,\n",
    "         7.4: 5.7583176678849615,\n",
    "         7.5: 5.38141076959865,\n",
    "         7.6000000000000005: 5.105205369254645,\n",
    "         7.7: 4.92105048841845,\n",
    "         7.800000000000001: 4.815269309315882,\n",
    "         7.9: 4.785489651553809,\n",
    "         8.0: 4.8338525331682645,\n",
    "         8.1: 4.9716743084016635,\n",
    "         8.200000000000001: 5.20901218358933,\n",
    "         8.3: 2.816926553493541,\n",
    "         8.4: 2.8335178535559598,\n",
    "         8.5: 10.141942731206917,\n",
    "         8.6: 10.147537198424269,\n",
    "         8.700000000000001: 10.18202979989414,\n",
    "         8.8: 4.169984320553877,\n",
    "         8.9: 10.375371764543688,\n",
    "         9.0: 2.3436413248157426,\n",
    "         9.1: 10.803130917037308,\n",
    "         9.200000000000001: 11.177226525203402,\n",
    "         9.3: 2.536891665835642,\n",
    "         9.4: 2.5667919719431986,\n",
    "         9.5: 2.5936313706976866,\n",
    "         9.600000000000001: 14.772342283398428,\n",
    "         9.700000000000001: 16.395965438330794,\n",
    "         9.8: 17.427473961401837,\n",
    "         9.9: 1.3579585406107113,\n",
    "         10.0: 23.748292072202197,\n",
    "         10.100000000000001: 27.156144494998177,\n",
    "         10.200000000000001: 31.107307264996265,\n",
    "         10.3: 13.771965165801838,\n",
    "         10.4: 18.43083441517254,\n",
    "         10.5: 25.345635010272446,\n",
    "         10.600000000000001: 29.406826338911387,\n",
    "         10.700000000000001: 37.48267780225471,\n",
    "         10.8: 45.44704475757986,\n",
    "         10.9: 55.2294427602269,\n",
    "         11.0: 64.22131918421444,\n",
    "         11.100000000000001: 79.69099353592917,\n",
    "         11.200000000000001: 61.62254565415627,\n",
    "         11.3: 97.94545641149656,\n",
    "         11.4: 110.35589146746877,\n",
    "         11.5: 124.33157176221114,\n",
    "         11.600000000000001: 137.63351619767053,\n",
    "         11.700000000000001: 162.31112014557144,\n",
    "         11.8: 175.8288148928701,\n",
    "         11.9: 192.52820534677232,\n",
    "         12.0: 171.456957826006,\n",
    "         12.100000000000001: 225.43287944537593,\n",
    "         12.200000000000001: 250.22293233992042,\n",
    "         12.3: 227.35395892968015,\n",
    "         12.4: 247.80749110719194,\n",
    "         12.5: 321.77716008700577,\n",
    "         12.600000000000001: 291.3686828836881,\n",
    "         12.700000000000001: 369.88324344781694,\n",
    "         12.8: 395.04391040963765,\n",
    "         12.9: 363.7130142267156,\n",
    "         13.0: 448.21519881477275,\n",
    "         13.100000000000001: 416.48982126762155,\n",
    "         13.200000000000001: 505.8576550865257,\n",
    "         13.3: 472.8726876708307,\n",
    "         13.4: 502.3272910416922,\n",
    "         13.5: 599.4826834820997,\n",
    "         13.600000000000001: 632.4953763476223,\n",
    "         13.700000000000001: 665.4329043342739,\n",
    "         13.8: 700.7783588876678,\n",
    "         13.9: 733.9725082518262,\n",
    "         14.0: 772.7276385038747,\n",
    "         14.100000000000001: 810.0604634187073,\n",
    "         14.200000000000001: 850.4640468026687,\n",
    "         14.3: 888.9689669490729,\n",
    "         14.4: 928.1824058258952,\n",
    "         14.5: 968.4445297575563,\n",
    "         14.600000000000001: 1012.5419714233874,\n",
    "         14.700000000000001: 1053.759727256388,\n",
    "         14.8: 1098.8321794667354,\n",
    "         14.9: 1145.126471452397,\n",
    "         15.0: 1188.4505740592087,\n",
    "         15.100000000000001: 1146.9242085764422,\n",
    "         15.200000000000001: 1192.4409922173406,\n",
    "         15.3: 1240.5738930773093,\n",
    "         15.4: 1380.6901779936206,\n",
    "         15.5: 1336.7557314193198,\n",
    "         15.600000000000001: 1387.7044637575113,\n",
    "         15.700000000000001: 1437.6531678535591,\n",
    "         15.8: 1489.4793095744662,\n",
    "         15.9: 1642.2884530350325,\n",
    "         16.0: 1698.2788817037244,\n",
    "         16.1: 1650.6665664819147,\n",
    "         16.2: 1706.9968825237088,\n",
    "         16.3: 1762.62318356463,\n",
    "         16.400000000000002: 1821.0056055311734,\n",
    "         16.5: 1878.9077852361213,\n",
    "         16.6: 1954.0931098151664,\n",
    "         16.7: 2011.9999981651506,\n",
    "         16.8: 2068.834293687462,\n",
    "         16.900000000000002: 2134.958170487931,\n",
    "         17.0: 2185.950693540045,\n",
    "         17.1: 2253.463329684435,\n",
    "         17.2: 2313.1488557924517,\n",
    "         17.3: 2390.4065227910555,\n",
    "         17.400000000000002: 2445.7311213986295,\n",
    "         17.5: 2514.419767142029,\n",
    "         17.6: 2593.504216919098,\n",
    "         17.7: 2661.2944872660973,\n",
    "         17.8: 2740.9058466777433,\n",
    "         17.900000000000002: 2794.2466093153107,\n",
    "         18.0: 2877.2317207278966,\n",
    "         18.1: 2959.078618179139,\n",
    "         18.2: 3029.5535740496143,\n",
    "         18.3: 3089.839997494769,\n",
    "         18.400000000000002: 3165.8818107270304,\n",
    "         18.5: 3242.9608211598897,\n",
    "         18.6: 3340.618151430879,\n",
    "         18.7: 3400.0156831017493,\n",
    "         18.8: 3479.8695551475257,\n",
    "         18.900000000000002: 3575.032755648972,\n",
    "         19.0: 3642.6622744044384,\n",
    "         19.1: 3737.7017136546283,\n",
    "         19.200000000000003: 3808.7287340627227,\n",
    "         19.3: 3911.7721919834667,\n",
    "         19.400000000000002: 3996.9171030142875,\n",
    "         19.5: 4077.408588021188,\n",
    "         19.6: 4152.5139368385835,\n",
    "         19.700000000000003: 4240.964698228315,\n",
    "         19.8: 4350.863340742675,\n",
    "         19.900000000000002: 4443.677283564195,\n",
    "         20.0: 4512.505339784237,\n",
    "         20.1: 4631.230889139941,\n",
    "         20.200000000000003: 4719.312852377857,\n",
    "         20.3: 4810.071483180874,\n",
    "         20.400000000000002: 4904.885431003954}"
   ]
  },
  {
   "cell_type": "code",
   "execution_count": null,
   "id": "6c5b5c44",
   "metadata": {},
   "outputs": [],
   "source": [
    "import plotly.express as px\n",
    "\n",
    "fig = px.line(pd.DataFrame({'score': test_scores.values(), 'distance': test_scores.keys()}),\n",
    "              title='Asx-Lys Cα Distance vs. ∆∆G w/ constraits',\n",
    "              x='distance', y='score', log_y=True)\n",
    "fig"
   ]
  },
  {
   "cell_type": "code",
   "execution_count": null,
   "id": "4b6e965d",
   "metadata": {},
   "outputs": [],
   "source": [
    "1"
   ]
  },
  {
   "cell_type": "code",
   "execution_count": null,
   "id": "fb400cc1-262b-4e5e-baf8-0d408517023d",
   "metadata": {},
   "outputs": [],
   "source": [
    "pyrosetta.rosetta.core.chemical."
   ]
  },
  {
   "cell_type": "code",
   "execution_count": null,
   "id": "7031c9bf-f09d-4ed3-8447-136c14ef69cd",
   "metadata": {},
   "outputs": [],
   "source": [
    "pyrosetta.rosetta.core.chemical.VariantType.DEPROTONATED"
   ]
  },
  {
   "cell_type": "code",
   "execution_count": null,
   "id": "8c6fe018-7cd8-4cb3-a207-b778a5d94fd3",
   "metadata": {},
   "outputs": [],
   "source": [
    "pyrosetta.pose_from_sequence('E[Glu:Protonated]')"
   ]
  },
  {
   "cell_type": "code",
   "execution_count": null,
   "id": "3b11676e-cd58-4e76-9178-f94f1282f27c",
   "metadata": {},
   "outputs": [],
   "source": [
    "import importlib_resources"
   ]
  },
  {
   "cell_type": "code",
   "execution_count": null,
   "id": "31f0fe75-fd1b-4621-8125-b3085c99d57a",
   "metadata": {},
   "outputs": [],
   "source": [
    "# /usr/local/Caskroom/miniconda/base/envs/biochem38/lib/python3.8/site-packages/pyrosetta/database/chemical/residue_type_sets/fa_standard/patches "
   ]
  },
  {
   "cell_type": "code",
   "execution_count": null,
   "id": "672c9671-3d1c-4cb0-b189-7d4c0dc1140c",
   "metadata": {},
   "outputs": [],
   "source": [
    "!grep -r 'proton' /usr/local/Caskroom/miniconda/base/envs/biochem38/lib/python3.8/site-packages/pyrosetta/database/chemical/residue_type_sets/fa_standard/patches"
   ]
  },
  {
   "cell_type": "code",
   "execution_count": 62,
   "id": "22b87bb3-8dc4-429b-9aee-ddad7f60a411",
   "metadata": {},
   "outputs": [
    {
     "data": {
      "text/plain": [
       "<pyrosetta.rosetta.core.conformation.Residue at 0x30ba47c70>"
      ]
     },
     "execution_count": 62,
     "metadata": {},
     "output_type": "execute_result"
    }
   ],
   "source": [
    "ideal.residue(1) #.atom_index('CB')"
   ]
  },
  {
   "cell_type": "code",
   "execution_count": 60,
   "id": "76ca3446-3405-48b6-b349-c128f0f1911c",
   "metadata": {},
   "outputs": [
    {
     "data": {
      "text/plain": [
       "5"
      ]
     },
     "execution_count": 60,
     "metadata": {},
     "output_type": "execute_result"
    }
   ],
   "source": [
    "_."
   ]
  },
  {
   "cell_type": "code",
   "execution_count": null,
   "id": "48a80f4d-469a-4af4-bb66-a39326c15de4",
   "metadata": {},
   "outputs": [],
   "source": []
  },
  {
   "cell_type": "code",
   "execution_count": null,
   "id": "43b921f9-56be-4502-bd20-b43f5bd8fa92",
   "metadata": {},
   "outputs": [],
   "source": []
  }
 ],
 "metadata": {
  "kernelspec": {
   "display_name": "Python [conda env:py311]",
   "language": "python",
   "name": "conda-env-py311-py"
  },
  "language_info": {
   "codemirror_mode": {
    "name": "ipython",
    "version": 3
   },
   "file_extension": ".py",
   "mimetype": "text/x-python",
   "name": "python",
   "nbconvert_exporter": "python",
   "pygments_lexer": "ipython3",
   "version": "3.11.8"
  },
  "widgets": {
   "application/vnd.jupyter.widget-state+json": {
    "state": {},
    "version_major": 2,
    "version_minor": 0
   }
  }
 },
 "nbformat": 4,
 "nbformat_minor": 5
}
