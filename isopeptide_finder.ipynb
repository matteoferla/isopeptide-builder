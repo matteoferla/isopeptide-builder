{
 "cells": [
  {
   "cell_type": "code",
   "execution_count": 1,
   "id": "0768d727",
   "metadata": {
    "tags": []
   },
   "outputs": [],
   "source": [
    "import pyrosetta\n",
    "import pyrosetta_help as ph\n",
    "\n",
    "logger = ph.configure_logger()\n",
    "pyrosetta.distributed.maybe_init(extra_options=ph.make_option_string(no_optH=False,\n",
    "                                                ex1=None,\n",
    "                                                ex2=None,\n",
    "                                                #mute='all',\n",
    "                                                ignore_unrecognized_res=True,\n",
    "                                                load_PDB_components=False,\n",
    "                                                ignore_waters=False)\n",
    "                               )"
   ]
  },
  {
   "cell_type": "code",
   "execution_count": 2,
   "id": "b95e6e36-25a3-433b-b0ed-954c6796abca",
   "metadata": {},
   "outputs": [],
   "source": []
  },
  {
   "cell_type": "code",
   "execution_count": 3,
   "id": "c7651729",
   "metadata": {},
   "outputs": [
    {
     "data": {
      "text/plain": [
       "'MQIFVKTLTGKTITLEVEPSDTIENVKAKIQDKEGIPPDQQRLIFAGKQLEDGRTLSDYNIQKESTLHLVLRLRGG'"
      ]
     },
     "execution_count": 3,
     "metadata": {},
     "output_type": "execute_result"
    }
   ],
   "source": []
  },
  {
   "cell_type": "code",
   "execution_count": null,
   "id": "685e7e93-d283-4368-a4ff-0fe6d6017b9d",
   "metadata": {},
   "outputs": [],
   "source": [
    "TestIsopetide"
   ]
  },
  {
   "cell_type": "code",
   "execution_count": 4,
   "id": "5b61e471",
   "metadata": {},
   "outputs": [
    {
     "ename": "NameError",
     "evalue": "name 'create_test' is not defined",
     "output_type": "error",
     "traceback": [
      "\u001b[0;31m---------------------------------------------------------------------------\u001b[0m",
      "\u001b[0;31mNameError\u001b[0m                                 Traceback (most recent call last)",
      "Input \u001b[0;32mIn [4]\u001b[0m, in \u001b[0;36m<cell line: 1>\u001b[0;34m()\u001b[0m\n\u001b[0;32m----> 1\u001b[0m ori_test \u001b[38;5;241m=\u001b[39m \u001b[43mcreate_test\u001b[49m()\n\u001b[1;32m      2\u001b[0m \u001b[38;5;28mprint\u001b[39m(ori_test\u001b[38;5;241m.\u001b[39msequence())\n\u001b[1;32m      4\u001b[0m ori_test\u001b[38;5;241m.\u001b[39mremove_constraints()\n",
      "\u001b[0;31mNameError\u001b[0m: name 'create_test' is not defined"
     ]
    }
   ],
   "source": [
    "NO LONGER VALID\n",
    "\n",
    "\n",
    "ori_test = create_test()\n",
    "print(ori_test.sequence())\n",
    "\n",
    "ori_test.remove_constraints()\n",
    "constrain_isopeptide(ori_test)\n",
    "constrain_CA_distance(ori_test, 9)\n",
    "scorefxn=pyrosetta.create_score_function('ref2015_cart')\n",
    "scorefxn.set_weight(pyrosetta.rosetta.core.scoring.ScoreType.dihedral_constraint, 5)\n",
    "movemap = pyrosetta.MoveMap()\n",
    "movemap.set_bb(True)\n",
    "movemap.set_chi(True)\n",
    "movemap.set_jump(True)\n",
    "relax = pyrosetta.rosetta.protocols.relax.FastRelax(scorefxn, 5)\n",
    "#relax.set_movemap_disables_packing_of_fixed_chi_positions(True)\n",
    "relax.set_movemap(movemap)\n",
    "relax.apply(ori_test)\n",
    "\n",
    "ori_test.remove_constraints()\n",
    "constrain_isopeptide(ori_test)"
   ]
  },
  {
   "cell_type": "code",
   "execution_count": null,
   "id": "ad87bf23",
   "metadata": {},
   "outputs": [],
   "source": [
    "# ## Show\n",
    "import nglview as nv\n",
    "\n",
    "nv.show_rosetta(test)"
   ]
  },
  {
   "cell_type": "code",
   "execution_count": null,
   "id": "86cf0729",
   "metadata": {
    "scrolled": true
   },
   "outputs": [],
   "source": [
    "\n",
    "    \n",
    "    \n",
    "scorefxn=pyrosetta.create_score_function('ref2015_cart')\n",
    "scorefxn.set_weight(pyrosetta.rosetta.core.scoring.ScoreType.dihedral_constraint, 5)\n",
    "scores = []\n",
    "for i, j in itertools.product(ph.pose_range(ref, protein_only=True), repeat=2):\n",
    "    if i == j:\n",
    "        continue\n",
    "    s = quick_score_layout(asx=ref.residue(i), lys=ref.residue(j))\n",
    "    scores.append((i, j, s))"
   ]
  },
  {
   "cell_type": "code",
   "execution_count": null,
   "id": "f1639c28",
   "metadata": {},
   "outputs": [],
   "source": [
    "import pandas as pd\n",
    "\n",
    "df = pd.DataFrame([dict(zip(['asx', 'lys', 'score'], s)) for s in scores])\n",
    "# px.imshow expects wide not long hence the df.pivot\n",
    "fig = px.imshow(df.pivot(index='asx',columns='lys').score,\n",
    "                color_continuous_scale='teal_r', range_color=[5, 20],\n",
    "                title='Potentially suitable asx-lys isopeptide resiude pairs',\n",
    "               )\n",
    "fig.update_layout(title_x=0.5)\n",
    "fig"
   ]
  },
  {
   "cell_type": "code",
   "execution_count": null,
   "id": "0587142d",
   "metadata": {},
   "outputs": [],
   "source": [
    "df.loc[df.score < 10].sort_values('score')"
   ]
  },
  {
   "cell_type": "code",
   "execution_count": null,
   "id": "a0959748",
   "metadata": {},
   "outputs": [],
   "source": [
    "asx_i = 54\n",
    "lys_i = 23\n",
    "mutant = ref.clone()\n",
    "MutateResidue = pyrosetta.rosetta.protocols.simple_moves.MutateResidue\n",
    "MutateResidue(target=asx_i, new_res='ASP:SidechainConjugation').apply(mutant)\n",
    "MutateResidue(target=lys_i, new_res='LYS:SidechainConjugation').apply(mutant)\n",
    "mutant.conformation().declare_chemical_bond(seqpos1=lys_i, atom_name1='NZ', seqpos2=asx_i, atom_name2='CG')\n",
    "constrain_isopeptide(mutant, asx_i, lys_i)\n",
    "\n",
    "movemap = pyrosetta.MoveMap()\n",
    "movemap.set_bb(False)\n",
    "movemap.set_chi(True)\n",
    "movemap.set_jump(True)\n",
    "relax = pyrosetta.rosetta.protocols.relax.FastRelax(scorefxn, 5)\n",
    "#relax.set_movemap_disables_packing_of_fixed_chi_positions(True)\n",
    "relax.set_movemap(movemap)\n",
    "relax.apply(ori_test)\n"
   ]
  },
  {
   "cell_type": "code",
   "execution_count": null,
   "id": "b8ce5212",
   "metadata": {},
   "outputs": [],
   "source": [
    "rts = test.residue_type_set_for_pose()\n",
    "rts.get_base_types_name3('ASP')[1]"
   ]
  },
  {
   "cell_type": "code",
   "execution_count": null,
   "id": "a5bc7254",
   "metadata": {},
   "outputs": [],
   "source": [
    "ref.residue(1)"
   ]
  },
  {
   "cell_type": "code",
   "execution_count": null,
   "id": "92c18b58",
   "metadata": {},
   "outputs": [],
   "source": [
    "# pyrosetta.rosetta.core.util.add_covalent_linkage(pose=test, \n",
    "#                                                  resA_pos=1, resB_pos=2, \n",
    "#                                                  resA_At=test.residue(1).atom_index('CG'), \n",
    "#                                                  resB_At=test.residue(2).atom_index('NZ'), \n",
    "#                                                  remove_hydrogens=True)"
   ]
  },
  {
   "cell_type": "markdown",
   "id": "b96ea4e3",
   "metadata": {},
   "source": [
    "```\n",
    "AtomPair NZ 9A CG 121A HARMONIC 1.30 0.3\n",
    "AtomPair CE 9A CG 121A HARMONIC 2.40 0.3\n",
    "AtomPair 1HZ 9A OD 121A HARMONIC 3.20 0.3\n",
    "Angle CE 9A NZ 9A CG 121A CIRCULARHARMONIC 2.08 0.2 #119 deg\n",
    "Angle NZ 9A CG 121A OD 121A CIRCULARHARMONIC 2.08 0.2\n",
    "Dihedral CE 9A NZ 9A CG 121A CB 121A CIRCULARHARMONIC 3.14159 0.2\n",
    "Dihedral 1HZ 9A NZ 9A CG 121A OD 121A CIRCULARHARMONIC 3.14159 0.2\n",
    "```\n",
    "\n",
    "cst_fa_weight 5"
   ]
  },
  {
   "cell_type": "code",
   "execution_count": null,
   "id": "5b8042a2",
   "metadata": {},
   "outputs": [],
   "source": [
    "#Angle CE 9A NZ 9A CG 121A CIRCULARHARMONIC 2.08 0.2 #119 deg\n",
    "#Angle NZ 9A CG 121A OD 121A CIRCULARHARMONIC 2.08 0.2"
   ]
  },
  {
   "cell_type": "code",
   "execution_count": null,
   "id": "4d55d86a",
   "metadata": {},
   "outputs": [],
   "source": [
    "test_ref = test.clone()"
   ]
  },
  {
   "cell_type": "code",
   "execution_count": null,
   "id": "27e9cf13",
   "metadata": {},
   "outputs": [],
   "source": [
    "import numpy as np\n",
    "cycles = 15\n",
    "movemap = pyrosetta.MoveMap()\n",
    "movemap.set_bb(True)\n",
    "movemap.set_chi(True)\n",
    "movemap.set_jump(True)\n",
    "scorefxn.set_weight(pyrosetta.rosetta.core.scoring.ScoreType.atom_pair_constraint, 5)\n",
    "relax = pyrosetta.rosetta.protocols.relax.FastRelax(scorefxn, cycles)\n",
    "#relax.set_movemap_disables_packing_of_fixed_chi_positions(True)\n",
    "relax.set_movemap(movemap)\n",
    "test_scores = {}\n",
    "for i in np.arange(0, 20.5, 0.1):\n",
    "    test = test_ref.clone()\n",
    "    test.remove_constraints()\n",
    "    constrain_CA_distance(test, i)\n",
    "    constrain_isopeptide(test)\n",
    "    relax.apply(test)\n",
    "    test_scores[i] = scorefxn(test)"
   ]
  },
  {
   "cell_type": "code",
   "execution_count": null,
   "id": "77cedf8e",
   "metadata": {},
   "outputs": [],
   "source": [
    "# distances\n",
    "\n",
    "test_scores = {0.0: 829.5172358840177,\n",
    "         0.1: 777.9509751175779,\n",
    "         0.2: 732.3929631395587,\n",
    "         0.30000000000000004: 690.5260730375543,\n",
    "         0.4: 648.9792405060249,\n",
    "         0.5: 608.4890636937826,\n",
    "         0.6000000000000001: 559.6898360629772,\n",
    "         0.7000000000000001: 786.8215729408977,\n",
    "         0.8: 492.4208966480116,\n",
    "         0.9: 460.69782700073995,\n",
    "         1.0: 416.1464918019651,\n",
    "         1.1: 388.2167777023903,\n",
    "         1.2000000000000002: 355.7450217050791,\n",
    "         1.3: 324.9045948803566,\n",
    "         1.4000000000000001: 294.0022992850152,\n",
    "         1.5: 471.3526100169143,\n",
    "         1.6: 435.39255033487046,\n",
    "         1.7000000000000002: 400.8312641648571,\n",
    "         1.8: 293.99621165753734,\n",
    "         1.9000000000000001: 165.30806028234093,\n",
    "         2.0: 238.20084971264444,\n",
    "         2.1: 126.27946820212944,\n",
    "         2.2: 173.5091105496658,\n",
    "         2.3000000000000003: 92.27074797734963,\n",
    "         2.4000000000000004: 152.10642654766116,\n",
    "         2.5: 90.05100643079703,\n",
    "         2.6: 116.83613775709578,\n",
    "         2.7: 101.83154271723377,\n",
    "         2.8000000000000003: 64.21554588287029,\n",
    "         2.9000000000000004: 57.432237087028554,\n",
    "         3.0: 51.313599118934846,\n",
    "         3.1: 101.23965703424105,\n",
    "         3.2: 40.975858535302024,\n",
    "         3.3000000000000003: 42.490549323505235,\n",
    "         3.4000000000000004: 66.88597038861194,\n",
    "         3.5: 23.565466644544614,\n",
    "         3.6: 53.32739774146941,\n",
    "         3.7: 27.293769761136915,\n",
    "         3.8000000000000003: 44.014241113292854,\n",
    "         3.9000000000000004: 44.586358393321866,\n",
    "         4.0: 39.75042010163031,\n",
    "         4.1000000000000005: 35.580049409262905,\n",
    "         4.2: 31.929280933765483,\n",
    "         4.3: 28.47305583076133,\n",
    "         4.4: 25.777379192084094,\n",
    "         4.5: 23.760757899099815,\n",
    "         4.6000000000000005: 21.992139570105163,\n",
    "         4.7: 20.447550739101732,\n",
    "         4.800000000000001: 19.101640456119974,\n",
    "         4.9: 17.91782606424314,\n",
    "         5.0: 16.872413827211243,\n",
    "         5.1000000000000005: 15.628627942201643,\n",
    "         5.2: 14.991896915243577,\n",
    "         5.300000000000001: 14.468741353220324,\n",
    "         5.4: 13.969408840194262,\n",
    "         5.5: 13.552741222367473,\n",
    "         5.6000000000000005: 13.181755789562168,\n",
    "         5.7: 12.760197270219331,\n",
    "         5.800000000000001: 12.384874316780248,\n",
    "         5.9: 12.039754944832548,\n",
    "         6.0: 11.691715175282901,\n",
    "         6.1000000000000005: 11.389567668692294,\n",
    "         6.2: 11.137846412576707,\n",
    "         6.300000000000001: 10.965292916235384,\n",
    "         6.4: 10.930483471931876,\n",
    "         6.5: 5.687119188705657,\n",
    "         6.6000000000000005: 10.727061644112414,\n",
    "         6.7: 10.66582620779735,\n",
    "         6.800000000000001: 5.058878547507912,\n",
    "         6.9: 7.903203781574227,\n",
    "         7.0: 10.53736860030605,\n",
    "         7.1000000000000005: 6.986290802337589,\n",
    "         7.2: 6.5703075833452615,\n",
    "         7.300000000000001: 6.159069125681946,\n",
    "         7.4: 5.7583176678849615,\n",
    "         7.5: 5.38141076959865,\n",
    "         7.6000000000000005: 5.105205369254645,\n",
    "         7.7: 4.92105048841845,\n",
    "         7.800000000000001: 4.815269309315882,\n",
    "         7.9: 4.785489651553809,\n",
    "         8.0: 4.8338525331682645,\n",
    "         8.1: 4.9716743084016635,\n",
    "         8.200000000000001: 5.20901218358933,\n",
    "         8.3: 2.816926553493541,\n",
    "         8.4: 2.8335178535559598,\n",
    "         8.5: 10.141942731206917,\n",
    "         8.6: 10.147537198424269,\n",
    "         8.700000000000001: 10.18202979989414,\n",
    "         8.8: 4.169984320553877,\n",
    "         8.9: 10.375371764543688,\n",
    "         9.0: 2.3436413248157426,\n",
    "         9.1: 10.803130917037308,\n",
    "         9.200000000000001: 11.177226525203402,\n",
    "         9.3: 2.536891665835642,\n",
    "         9.4: 2.5667919719431986,\n",
    "         9.5: 2.5936313706976866,\n",
    "         9.600000000000001: 14.772342283398428,\n",
    "         9.700000000000001: 16.395965438330794,\n",
    "         9.8: 17.427473961401837,\n",
    "         9.9: 1.3579585406107113,\n",
    "         10.0: 23.748292072202197,\n",
    "         10.100000000000001: 27.156144494998177,\n",
    "         10.200000000000001: 31.107307264996265,\n",
    "         10.3: 13.771965165801838,\n",
    "         10.4: 18.43083441517254,\n",
    "         10.5: 25.345635010272446,\n",
    "         10.600000000000001: 29.406826338911387,\n",
    "         10.700000000000001: 37.48267780225471,\n",
    "         10.8: 45.44704475757986,\n",
    "         10.9: 55.2294427602269,\n",
    "         11.0: 64.22131918421444,\n",
    "         11.100000000000001: 79.69099353592917,\n",
    "         11.200000000000001: 61.62254565415627,\n",
    "         11.3: 97.94545641149656,\n",
    "         11.4: 110.35589146746877,\n",
    "         11.5: 124.33157176221114,\n",
    "         11.600000000000001: 137.63351619767053,\n",
    "         11.700000000000001: 162.31112014557144,\n",
    "         11.8: 175.8288148928701,\n",
    "         11.9: 192.52820534677232,\n",
    "         12.0: 171.456957826006,\n",
    "         12.100000000000001: 225.43287944537593,\n",
    "         12.200000000000001: 250.22293233992042,\n",
    "         12.3: 227.35395892968015,\n",
    "         12.4: 247.80749110719194,\n",
    "         12.5: 321.77716008700577,\n",
    "         12.600000000000001: 291.3686828836881,\n",
    "         12.700000000000001: 369.88324344781694,\n",
    "         12.8: 395.04391040963765,\n",
    "         12.9: 363.7130142267156,\n",
    "         13.0: 448.21519881477275,\n",
    "         13.100000000000001: 416.48982126762155,\n",
    "         13.200000000000001: 505.8576550865257,\n",
    "         13.3: 472.8726876708307,\n",
    "         13.4: 502.3272910416922,\n",
    "         13.5: 599.4826834820997,\n",
    "         13.600000000000001: 632.4953763476223,\n",
    "         13.700000000000001: 665.4329043342739,\n",
    "         13.8: 700.7783588876678,\n",
    "         13.9: 733.9725082518262,\n",
    "         14.0: 772.7276385038747,\n",
    "         14.100000000000001: 810.0604634187073,\n",
    "         14.200000000000001: 850.4640468026687,\n",
    "         14.3: 888.9689669490729,\n",
    "         14.4: 928.1824058258952,\n",
    "         14.5: 968.4445297575563,\n",
    "         14.600000000000001: 1012.5419714233874,\n",
    "         14.700000000000001: 1053.759727256388,\n",
    "         14.8: 1098.8321794667354,\n",
    "         14.9: 1145.126471452397,\n",
    "         15.0: 1188.4505740592087,\n",
    "         15.100000000000001: 1146.9242085764422,\n",
    "         15.200000000000001: 1192.4409922173406,\n",
    "         15.3: 1240.5738930773093,\n",
    "         15.4: 1380.6901779936206,\n",
    "         15.5: 1336.7557314193198,\n",
    "         15.600000000000001: 1387.7044637575113,\n",
    "         15.700000000000001: 1437.6531678535591,\n",
    "         15.8: 1489.4793095744662,\n",
    "         15.9: 1642.2884530350325,\n",
    "         16.0: 1698.2788817037244,\n",
    "         16.1: 1650.6665664819147,\n",
    "         16.2: 1706.9968825237088,\n",
    "         16.3: 1762.62318356463,\n",
    "         16.400000000000002: 1821.0056055311734,\n",
    "         16.5: 1878.9077852361213,\n",
    "         16.6: 1954.0931098151664,\n",
    "         16.7: 2011.9999981651506,\n",
    "         16.8: 2068.834293687462,\n",
    "         16.900000000000002: 2134.958170487931,\n",
    "         17.0: 2185.950693540045,\n",
    "         17.1: 2253.463329684435,\n",
    "         17.2: 2313.1488557924517,\n",
    "         17.3: 2390.4065227910555,\n",
    "         17.400000000000002: 2445.7311213986295,\n",
    "         17.5: 2514.419767142029,\n",
    "         17.6: 2593.504216919098,\n",
    "         17.7: 2661.2944872660973,\n",
    "         17.8: 2740.9058466777433,\n",
    "         17.900000000000002: 2794.2466093153107,\n",
    "         18.0: 2877.2317207278966,\n",
    "         18.1: 2959.078618179139,\n",
    "         18.2: 3029.5535740496143,\n",
    "         18.3: 3089.839997494769,\n",
    "         18.400000000000002: 3165.8818107270304,\n",
    "         18.5: 3242.9608211598897,\n",
    "         18.6: 3340.618151430879,\n",
    "         18.7: 3400.0156831017493,\n",
    "         18.8: 3479.8695551475257,\n",
    "         18.900000000000002: 3575.032755648972,\n",
    "         19.0: 3642.6622744044384,\n",
    "         19.1: 3737.7017136546283,\n",
    "         19.200000000000003: 3808.7287340627227,\n",
    "         19.3: 3911.7721919834667,\n",
    "         19.400000000000002: 3996.9171030142875,\n",
    "         19.5: 4077.408588021188,\n",
    "         19.6: 4152.5139368385835,\n",
    "         19.700000000000003: 4240.964698228315,\n",
    "         19.8: 4350.863340742675,\n",
    "         19.900000000000002: 4443.677283564195,\n",
    "         20.0: 4512.505339784237,\n",
    "         20.1: 4631.230889139941,\n",
    "         20.200000000000003: 4719.312852377857,\n",
    "         20.3: 4810.071483180874,\n",
    "         20.400000000000002: 4904.885431003954}"
   ]
  },
  {
   "cell_type": "code",
   "execution_count": null,
   "id": "6c5b5c44",
   "metadata": {},
   "outputs": [],
   "source": [
    "import plotly.express as px\n",
    "\n",
    "fig = px.line(pd.DataFrame({'score': test_scores.values(), 'distance': test_scores.keys()}),\n",
    "              title='Asx-Lys Cα Distance vs. ∆∆G w/ constraits',\n",
    "              x='distance', y='score', log_y=True)\n",
    "fig"
   ]
  },
  {
   "cell_type": "code",
   "execution_count": null,
   "id": "4b6e965d",
   "metadata": {},
   "outputs": [],
   "source": [
    "1"
   ]
  },
  {
   "cell_type": "code",
   "execution_count": null,
   "id": "fb400cc1-262b-4e5e-baf8-0d408517023d",
   "metadata": {},
   "outputs": [],
   "source": [
    "pyrosetta.rosetta.core.chemical."
   ]
  },
  {
   "cell_type": "code",
   "execution_count": null,
   "id": "7031c9bf-f09d-4ed3-8447-136c14ef69cd",
   "metadata": {},
   "outputs": [],
   "source": [
    "pyrosetta.rosetta.core.chemical.VariantType.DEPROTONATED"
   ]
  },
  {
   "cell_type": "code",
   "execution_count": null,
   "id": "8c6fe018-7cd8-4cb3-a207-b778a5d94fd3",
   "metadata": {},
   "outputs": [],
   "source": [
    "pyrosetta.pose_from_sequence('E[Glu:Protonated]')"
   ]
  },
  {
   "cell_type": "code",
   "execution_count": null,
   "id": "3b11676e-cd58-4e76-9178-f94f1282f27c",
   "metadata": {},
   "outputs": [],
   "source": [
    "import importlib_resources"
   ]
  },
  {
   "cell_type": "code",
   "execution_count": null,
   "id": "31f0fe75-fd1b-4621-8125-b3085c99d57a",
   "metadata": {},
   "outputs": [],
   "source": [
    "# /usr/local/Caskroom/miniconda/base/envs/biochem38/lib/python3.8/site-packages/pyrosetta/database/chemical/residue_type_sets/fa_standard/patches "
   ]
  },
  {
   "cell_type": "code",
   "execution_count": null,
   "id": "672c9671-3d1c-4cb0-b189-7d4c0dc1140c",
   "metadata": {},
   "outputs": [],
   "source": [
    "!grep -r 'proton' /usr/local/Caskroom/miniconda/base/envs/biochem38/lib/python3.8/site-packages/pyrosetta/database/chemical/residue_type_sets/fa_standard/patches"
   ]
  },
  {
   "cell_type": "code",
   "execution_count": null,
   "id": "22b87bb3-8dc4-429b-9aee-ddad7f60a411",
   "metadata": {},
   "outputs": [],
   "source": []
  }
 ],
 "metadata": {
  "kernelspec": {
   "display_name": "Python 3 (ipykernel)",
   "language": "python",
   "name": "python3"
  },
  "language_info": {
   "codemirror_mode": {
    "name": "ipython",
    "version": 3
   },
   "file_extension": ".py",
   "mimetype": "text/x-python",
   "name": "python",
   "nbconvert_exporter": "python",
   "pygments_lexer": "ipython3",
   "version": "3.9.12"
  },
  "widgets": {
   "application/vnd.jupyter.widget-state+json": {
    "state": {},
    "version_major": 2,
    "version_minor": 0
   }
  }
 },
 "nbformat": 4,
 "nbformat_minor": 5
}
